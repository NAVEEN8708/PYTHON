{
 "cells": [
  {
   "cell_type": "code",
   "execution_count": null,
   "id": "6ffe3726-2cae-489e-9340-0facd6795ae9",
   "metadata": {},
   "outputs": [],
   "source": [
    "# Q1. What is an Exception in python? Write the difference between Exceptions and Syntax errors."
   ]
  },
  {
   "cell_type": "code",
   "execution_count": null,
   "id": "efdecc66-39dc-41bb-a77a-145512453812",
   "metadata": {},
   "outputs": [],
   "source": [
    "# An Exception in Python is an event that occurs during the execution of a program \n",
    "# Exceptions are raised when Python encounters an error it cannot handle automatically,\n",
    "# such as dividing by zero, accessing a file that does not exist, or referencing a variable that is not defined\n",
    "\n",
    "\n",
    "# but Syntax Error Errors caused by invalid syntax in the code.like missing colons, unmatched parentheses, and incorrect indentation.\n"
   ]
  },
  {
   "cell_type": "code",
   "execution_count": null,
   "id": "56f241fe-40c9-46c4-8efe-4e0dbc8b0573",
   "metadata": {},
   "outputs": [],
   "source": [
    "# Q2. What happens when an exception is not handled? Explain with an example."
   ]
  },
  {
   "cell_type": "code",
   "execution_count": 1,
   "id": "90f5ac8a-997d-4811-b7f7-e65648f3a10c",
   "metadata": {},
   "outputs": [
    {
     "ename": "ZeroDivisionError",
     "evalue": "division by zero",
     "output_type": "error",
     "traceback": [
      "\u001b[1;31m---------------------------------------------------------------------------\u001b[0m",
      "\u001b[1;31mZeroDivisionError\u001b[0m                         Traceback (most recent call last)",
      "Cell \u001b[1;32mIn[1], line 7\u001b[0m\n\u001b[0;32m      4\u001b[0m     \u001b[38;5;28;01mreturn\u001b[39;00m a \u001b[38;5;241m/\u001b[39m b\n\u001b[0;32m      6\u001b[0m \u001b[38;5;66;03m# Calling the function with b = 0\u001b[39;00m\n\u001b[1;32m----> 7\u001b[0m result \u001b[38;5;241m=\u001b[39m \u001b[43mdivide_numbers\u001b[49m\u001b[43m(\u001b[49m\u001b[38;5;241;43m10\u001b[39;49m\u001b[43m,\u001b[49m\u001b[43m \u001b[49m\u001b[38;5;241;43m0\u001b[39;49m\u001b[43m)\u001b[49m\n\u001b[0;32m      8\u001b[0m \u001b[38;5;28mprint\u001b[39m(result)\n",
      "Cell \u001b[1;32mIn[1], line 4\u001b[0m, in \u001b[0;36mdivide_numbers\u001b[1;34m(a, b)\u001b[0m\n\u001b[0;32m      3\u001b[0m \u001b[38;5;28;01mdef\u001b[39;00m \u001b[38;5;21mdivide_numbers\u001b[39m(a, b):\n\u001b[1;32m----> 4\u001b[0m     \u001b[38;5;28;01mreturn\u001b[39;00m \u001b[43ma\u001b[49m\u001b[43m \u001b[49m\u001b[38;5;241;43m/\u001b[39;49m\u001b[43m \u001b[49m\u001b[43mb\u001b[49m\n",
      "\u001b[1;31mZeroDivisionError\u001b[0m: division by zero"
     ]
    }
   ],
   "source": [
    "# If an exception is not handled in Python, it causes the program to stops immediately and give a traceback error \n",
    "# Example of an unhandled exception\n",
    "def divide_numbers(a, b):\n",
    "    return a / b\n",
    "\n",
    "# Calling the function with b = 0\n",
    "result = divide_numbers(10, 0)\n",
    "print(result)\n"
   ]
  },
  {
   "cell_type": "code",
   "execution_count": null,
   "id": "f9e83b4d-37e9-4e9d-821a-9ded7187bca0",
   "metadata": {},
   "outputs": [],
   "source": [
    "# Q3. Which Python statements are used to catch and handle exceptions? Explain with an example."
   ]
  },
  {
   "cell_type": "code",
   "execution_count": 3,
   "id": "7bf48d57-2c77-431b-af1e-43bafca9b20a",
   "metadata": {},
   "outputs": [
    {
     "name": "stdout",
     "output_type": "stream",
     "text": [
      "Result of division: 2.0\n",
      "Execution finished.\n"
     ]
    }
   ],
   "source": [
    "# statements used to catch and handle exceptions\n",
    "# try, except, else, finally \n",
    "try:\n",
    "    result = 10 / 5\n",
    "except ZeroDivisionError as e:\n",
    "    print(\"Error: Cannot divide by zero!\")\n",
    "else:\n",
    "    print(f\"Result of division: {result}\")\n",
    "finally:\n",
    "    print(\"Execution finished.\")\n"
   ]
  },
  {
   "cell_type": "code",
   "execution_count": 4,
   "id": "680d0492-ad0d-4df2-8812-1bd970d012a7",
   "metadata": {},
   "outputs": [],
   "source": [
    "# Q4. Explain with an example:#\n",
    "#  try and else#\n",
    "#  finall\n",
    "#  raise"
   ]
  },
  {
   "cell_type": "code",
   "execution_count": 5,
   "id": "2939060c-3fe0-43b4-b22d-e18df4464579",
   "metadata": {},
   "outputs": [
    {
     "name": "stdout",
     "output_type": "stream",
     "text": [
      "Error: Denominator cannot be zero\n",
      "Execution finished.\n"
     ]
    }
   ],
   "source": [
    "a=5\n",
    "b=0\n",
    "try:\n",
    "    if b == 0:\n",
    "        raise ValueError(\"Denominator cannot be zero\")  # Explicitly raise an exception\n",
    "    result = a / b\n",
    "except ValueError as e:\n",
    "    # Handle exception if denominator is zero\n",
    "    print(f\"Error: {e}\")\n",
    "else:\n",
    "    # This will execute if no exception is raised\n",
    "    print(f\"Result of division: {result}\")\n",
    "finally:\n",
    "        # This will always execute\n",
    "        print(\"Execution finished.\")\n",
    "\n",
    "\n"
   ]
  },
  {
   "cell_type": "code",
   "execution_count": null,
   "id": "7bdb2e2d-3833-4560-84e1-8abd905e2cfa",
   "metadata": {},
   "outputs": [],
   "source": [
    "# Q5. What are Custom Exceptions in python? Why do we need Custom Exceptions? Explain with an example."
   ]
  },
  {
   "cell_type": "code",
   "execution_count": null,
   "id": "f519f3b6-0e3b-4cae-9056-d114f14965d8",
   "metadata": {},
   "outputs": [],
   "source": [
    "# Custom exceptions in Python are user-defined exceptions that allow you to create specific error types for your program.\n",
    "# Custom exceptions allow you to handle specific errors in a more controlled and clear manner, instead of relying on generic errors.\n",
    "# example if we inputting age  and want that it sholud be positive \n",
    "# so we have to create a custom exception if negative age is entered that give  suggets that neagtive weight is entered"
   ]
  },
  {
   "cell_type": "code",
   "execution_count": null,
   "id": "99ea4977-80e6-46e7-892f-24a272b997b3",
   "metadata": {},
   "outputs": [],
   "source": [
    "# Q6. Create a custom exception class. Use this class to handle an exception."
   ]
  },
  {
   "cell_type": "code",
   "execution_count": 6,
   "id": "635f1536-31a1-4524-854d-0dd1587be0bd",
   "metadata": {},
   "outputs": [
    {
     "name": "stdin",
     "output_type": "stream",
     "text": [
      "enter age -31\n"
     ]
    },
    {
     "name": "stdout",
     "output_type": "stream",
     "text": [
      "entered age is negative \n"
     ]
    }
   ],
   "source": [
    "class validate(Exception):\n",
    "    def __init__(self , msg) :\n",
    "        self.msg = msg\n",
    "\n",
    "def validateage(age):\n",
    "    if age<0:\n",
    "        raise validate(\"entered age is negative \")\n",
    "    elif age>200:\n",
    "        raise validate(\"enter age is very high\")\n",
    "    elif age==0:\n",
    "        raise validate(\"enter zero age\")\n",
    "    else:\n",
    "        print(\"age is valid\")   \n",
    "\n",
    "try:\n",
    "    age=int(input(\"enter age\"))\n",
    "    validateage(age)\n",
    "except validate as e:\n",
    "    print(e)\n",
    "    "
   ]
  },
  {
   "cell_type": "code",
   "execution_count": null,
   "id": "7cc18474-dc48-4c69-acf9-e476b357d211",
   "metadata": {},
   "outputs": [],
   "source": []
  }
 ],
 "metadata": {
  "kernelspec": {
   "display_name": "Python 3 (ipykernel)",
   "language": "python",
   "name": "python3"
  },
  "language_info": {
   "codemirror_mode": {
    "name": "ipython",
    "version": 3
   },
   "file_extension": ".py",
   "mimetype": "text/x-python",
   "name": "python",
   "nbconvert_exporter": "python",
   "pygments_lexer": "ipython3",
   "version": "3.11.4"
  }
 },
 "nbformat": 4,
 "nbformat_minor": 5
}

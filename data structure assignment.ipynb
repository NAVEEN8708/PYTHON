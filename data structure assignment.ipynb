{
 "cells": [
  {
   "cell_type": "code",
   "execution_count": 1,
   "id": "784be2fd",
   "metadata": {},
   "outputs": [
    {
     "data": {
      "text/plain": [
       "'this is multi line comment using string literals but this is not supported by jupyter notebook but we can use ctrl+/ to comment all line  '"
      ]
     },
     "execution_count": 1,
     "metadata": {},
     "output_type": "execute_result"
    }
   ],
   "source": [
    "#question1\n",
    "#this is single line comment\n",
    "'''this is multi line comment using string literals but this is not supported by jupyter notebook but we can use ctrl+/ to comment all line  '''"
   ]
  },
  {
   "cell_type": "code",
   "execution_count": 2,
   "id": "9db6ecc5",
   "metadata": {},
   "outputs": [],
   "source": [
    "#question2\n",
    "#variable are random user defined characters  in which contain a aplhabet or group of alphabet which is used to store strings,integrs and many more different type of data \n",
    "a=2 #a is variable and we assign value 2 to it "
   ]
  },
  {
   "cell_type": "code",
   "execution_count": 3,
   "id": "9d551348",
   "metadata": {},
   "outputs": [
    {
     "name": "stdout",
     "output_type": "stream",
     "text": [
      "<class 'int'>\n",
      "<class 'str'>\n"
     ]
    }
   ],
   "source": [
    "#qestion3\n",
    "#we convert one data type to another by using typecasting like\n",
    "a=1234\n",
    "print(type(a))\n",
    "a=str(a)\n",
    "a    #initially a is integer but after typecasting it become string\n",
    "print(type(a))"
   ]
  },
  {
   "cell_type": "code",
   "execution_count": 4,
   "id": "c57ed926",
   "metadata": {},
   "outputs": [],
   "source": [
    "#question4\n",
    "# to execute a Python script from the command line first we open command prompt and then write python<space>file name with.py extention that run our desire file"
   ]
  },
  {
   "cell_type": "code",
   "execution_count": 5,
   "id": "b994857f",
   "metadata": {},
   "outputs": [
    {
     "data": {
      "text/plain": [
       "[2, 3]"
      ]
     },
     "execution_count": 5,
     "metadata": {},
     "output_type": "execute_result"
    }
   ],
   "source": [
    "2#question5\n",
    "my_list = [1, 2, 3, 4, 5]\n",
    "sub_list=my_list[1:3]\n",
    "sub_list"
   ]
  },
  {
   "cell_type": "code",
   "execution_count": 6,
   "id": "c9887c8e",
   "metadata": {},
   "outputs": [
    {
     "data": {
      "text/plain": [
       "complex"
      ]
     },
     "execution_count": 6,
     "metadata": {},
     "output_type": "execute_result"
    }
   ],
   "source": [
    "#querstion6\n",
    "#complex numbers are the imaginary numbers in which contain one real and one imaginary part\n",
    "a=2+4j\n",
    "type(a)"
   ]
  },
  {
   "cell_type": "code",
   "execution_count": 7,
   "id": "8acbc294",
   "metadata": {},
   "outputs": [],
   "source": [
    "#question7\n",
    "age=25"
   ]
  },
  {
   "cell_type": "code",
   "execution_count": 8,
   "id": "ab2ecd8b",
   "metadata": {},
   "outputs": [
    {
     "data": {
      "text/plain": [
       "float"
      ]
     },
     "execution_count": 8,
     "metadata": {},
     "output_type": "execute_result"
    }
   ],
   "source": [
    "#question8\n",
    "price=9.99\n",
    "type(price)"
   ]
  },
  {
   "cell_type": "code",
   "execution_count": 9,
   "id": "a5de5785",
   "metadata": {},
   "outputs": [
    {
     "name": "stdout",
     "output_type": "stream",
     "text": [
      "NAVEEN\n"
     ]
    }
   ],
   "source": [
    "#question9\n",
    "name=\"NAVEEN\"\n",
    "print(name)"
   ]
  },
  {
   "cell_type": "code",
   "execution_count": 14,
   "id": "572a9aa9",
   "metadata": {},
   "outputs": [
    {
     "data": {
      "text/plain": [
       "'World'"
      ]
     },
     "execution_count": 14,
     "metadata": {},
     "output_type": "execute_result"
    }
   ],
   "source": [
    "#question10\n",
    "s=\"Hello,World!\"\n",
    "a=s[6:11:]\n",
    "a"
   ]
  },
  {
   "cell_type": "code",
   "execution_count": 15,
   "id": "3196329d",
   "metadata": {},
   "outputs": [],
   "source": [
    "#question11\n",
    "is_student=True"
   ]
  },
  {
   "cell_type": "code",
   "execution_count": null,
   "id": "2aabaf1b",
   "metadata": {},
   "outputs": [],
   "source": []
  }
 ],
 "metadata": {
  "kernelspec": {
   "display_name": "Python 3 (ipykernel)",
   "language": "python",
   "name": "python3"
  },
  "language_info": {
   "codemirror_mode": {
    "name": "ipython",
    "version": 3
   },
   "file_extension": ".py",
   "mimetype": "text/x-python",
   "name": "python",
   "nbconvert_exporter": "python",
   "pygments_lexer": "ipython3",
   "version": "3.11.4"
  }
 },
 "nbformat": 4,
 "nbformat_minor": 5
}

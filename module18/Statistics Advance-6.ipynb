{
 "cells": [
  {
   "cell_type": "code",
   "execution_count": null,
   "id": "4b98170b-592e-4ac2-83b5-121c6bd34ede",
   "metadata": {},
   "outputs": [],
   "source": [
    "# Q1. Explain the assumptions required to use ANOVA and provide examples of violations that could impact\n",
    "# the validity of the results.\n",
    "Assumptions in Anova\n",
    "1) normality of  sampling dist of means \n",
    "the dist of the sample mean is normally distributed\n",
    "\n",
    "2)absence of outliers \n",
    "outlying score needs to be removed \n",
    "\n",
    "3)homogeneity of variance \n",
    "each one of the population has the same variance \n",
    "\n",
    "population variance in different levels of \n",
    "each independent variable are equal\n",
    "\n",
    "4)sample are independent and random "
   ]
  },
  {
   "cell_type": "code",
   "execution_count": null,
   "id": "f0602fb2-fcac-45ad-9f25-287bacac4276",
   "metadata": {},
   "outputs": [],
   "source": [
    "Q2. What are the three types of ANOVA, and in what situations would each be used?\n",
    "type of ANOVA\n",
    "one way ANOVA:-  one factor with at least two levels\n",
    "these levels are independent \n",
    "eg. The the doctor wants to test the new medication to decrease the headache\n",
    "they split the participant in 3 conditions  [10mg,20mg,30mg]\n",
    "doctor asked to rate the headache\n",
    "\n",
    "repeated measure annova:-one factor with at least two level\n",
    "these levels are dependent \n",
    "factor -running\n",
    "level day1,day2 ,day3\n",
    "\n",
    "factorial ANOVA-two or more factor , each with at least two level\n",
    "these levels are independent or dependent \n",
    "factor -running, gender (men and women)\n",
    "level day1,day2 ,day3\n"
   ]
  },
  {
   "cell_type": "code",
   "execution_count": null,
   "id": "e34bbbd3-aa86-4c30-8cb4-f1c38c71f08e",
   "metadata": {},
   "outputs": [],
   "source": [
    "What is the partitioning of variance in ANOVA, and why is it important to understand this concept?\n",
    "hypothesis testing in ANOVA \n",
    "\n",
    "\n",
    "null hypo. Ho mu1=mu2=mu3.....muk\n",
    "alternate: H1 alleast one the mean is not equal\n",
    "\n",
    "F test\n",
    "degree of freedom also reqire\n",
    "F=(variation between sample )/(variation within  sample)\n",
    "\n",
    "Between-sample variance:This measures the variation due to the differences between the group means and the grand mean\n",
    "                        It reflects how much the group means deviate from the overall mean.\n",
    "\n",
    "Within-sample variance :This measures the variation within each group,It represents the error or unexplained variability, assuming that any differences within the groups are random."
   ]
  },
  {
   "cell_type": "code",
   "execution_count": null,
   "id": "7d4cd820-bb40-4a65-b018-94b364898c7f",
   "metadata": {},
   "outputs": [],
   "source": [
    "How would you calculate the total sum of squares (SST), explained sum of squares (SSE), and residual\n",
    "sum of squares (SSR) in a one-way ANOVA using Python?"
   ]
  },
  {
   "cell_type": "code",
   "execution_count": 2,
   "id": "f8e9f215-0cef-49f7-bb89-620e32bfcc69",
   "metadata": {},
   "outputs": [
    {
     "name": "stdout",
     "output_type": "stream",
     "text": [
      "Total Sum of Squares (SST): 108.95238095238093\n",
      "Explained Sum of Squares (SSE): 98.66666666666666\n",
      "Residual Sum of Squares (SSR): 10.285714285714286\n"
     ]
    }
   ],
   "source": [
    "import numpy as np\n",
    "\n",
    "# Example data: Each list represents a group\n",
    "group_1 = [9,8,7,8,8,9,8]\n",
    "group_2 = [7,6,6,7,8,7,6]\n",
    "group_3 = [4,3,2,3,4,3,2]\n",
    "\n",
    "# Combine all groups into a single dataset\n",
    "data = [group_1, group_2, group_3]\n",
    "\n",
    "# Number of groups and overall sample size\n",
    "k = len(data)\n",
    "N = sum(len(group) for group in data)\n",
    "\n",
    "# Calculate group means, overall mean, and sample sizes\n",
    "group_means = [np.mean(group) for group in data]\n",
    "overall_mean = np.mean([value for group in data for value in group])\n",
    "group_sizes = [len(group) for group in data]\n",
    "\n",
    "# Calculate SST (Total Sum of Squares)\n",
    "SST = sum((value - overall_mean) ** 2 for group in data for value in group)\n",
    "\n",
    "# Calculate SSE (Explained Sum of Squares)\n",
    "SSE = sum(size * (group_mean - overall_mean) ** 2 for group_mean, size in zip(group_means, group_sizes))\n",
    "\n",
    "# Calculate SSR (Residual Sum of Squares)\n",
    "SSR = sum((value - group_mean) ** 2 for group, group_mean in zip(data, group_means) for value in group)\n",
    "\n",
    "# Print the results\n",
    "print(f\"Total Sum of Squares (SST): {SST}\")\n",
    "print(f\"Explained Sum of Squares (SSE): {SSE}\")\n",
    "print(f\"Residual Sum of Squares (SSR): {SSR}\")\n",
    "\n",
    "# Verify the relationship: SST = SSE + SSR\n",
    "assert np.isclose(SST, SSE + SSR), \"SST is not equal to SSE + SSR\"\n"
   ]
  },
  {
   "cell_type": "code",
   "execution_count": null,
   "id": "2412db83-43a1-44b9-abd6-8ba60a0ca1af",
   "metadata": {},
   "outputs": [],
   "source": [
    "# In a two-way ANOVA, how would you calculate the main effects and interaction effects using Python?"
   ]
  },
  {
   "cell_type": "code",
   "execution_count": 12,
   "id": "6fdfcd1c-09c3-46d1-ba62-7f281785507f",
   "metadata": {},
   "outputs": [
    {
     "name": "stdout",
     "output_type": "stream",
     "text": [
      "                         sum_sq   df          F    PR(>F)\n",
      "C(Factor_A)               144.5  1.0  64.222222  0.001315\n",
      "C(Factor_B)                32.0  1.0  14.222222  0.019584\n",
      "C(Factor_A):C(Factor_B)     0.5  1.0   0.222222  0.661914\n",
      "Residual                    9.0  4.0        NaN       NaN\n"
     ]
    }
   ],
   "source": [
    "import pandas as pd\n",
    "import statsmodels.api as sm\n",
    "from statsmodels.formula.api import ols\n",
    "# Create a dataframe\n",
    "data = {\n",
    "    'Factor_A': [1, 1, 1, 1, 2, 2, 2, 2],\n",
    "    'Factor_B': [1, 1, 2, 2, 1, 1, 2, 2],\n",
    "    'Y': [10, 12, 15, 14, 20, 18, 25, 22]\n",
    "}\n",
    "\n",
    "df = pd.DataFrame(data)\n",
    "# Fit the two-way ANOVA model\n",
    "model = ols('Y ~ C(Factor_A) + C(Factor_B) + C(Factor_A):C(Factor_B)', data=df).fit()\n",
    "anova_table = sm.stats.anova_lm(model, typ=2)\n",
    "\n",
    "# Display the ANOVA table\n",
    "print(anova_table)\n",
    "import matplotlib.pyplot as plt\n",
    "import seaborn as sns"
   ]
  },
  {
   "cell_type": "code",
   "execution_count": null,
   "id": "78945a41-da1e-4b74-a425-b120fa141f39",
   "metadata": {},
   "outputs": [],
   "source": [
    "Q6. Suppose you conducted a one-way ANOVA and obtained an F-statistic of 5.23 and a p-value of 0.02.\n",
    "What can you conclude about the differences between the groups, and how would you interpret these\n",
    "results?\n",
    "The p-value p=0.02 is less than the significance level (0.05).\n",
    "This means you reject the null hypothesis. \n",
    "The F-statistic of 5.23 indicates the ratio of variability between group means\n",
    "to the variability within the groups. A higher F-statistic suggests greater\n",
    "differences between group means relative to the variation within groups.\n"
   ]
  },
  {
   "cell_type": "code",
   "execution_count": null,
   "id": "2a563fa1-b3e0-469f-a18c-024345a50cb2",
   "metadata": {},
   "outputs": [],
   "source": [
    "Q7. In a repeated measures ANOVA, how would you handle missing data, and what are the potential\n",
    "consequences of using different methods to handle missing data?\n",
    "\n",
    "\n",
    " Listwise Deletion: Exclude participants with any missing data from the analysis.\n",
    "Reduces sample size, which can decrease statistical power.\n",
    "May introduce bias if the data are not missing completely at random\n",
    "\n",
    "Mean Substitution:Replace missing values with the mean of the observed values for that condition.\n",
    "Underestimates variability, leading to inflated Type I error rates.\n",
    "Ignores individual differences and biases results.\n",
    "\n",
    "Last Observation Carried Forward \n",
    "Use the last available observation for a participant to fill missing data.\n",
    "Assumes no change over time, which may not be valid.\n",
    "    \n",
    " Linear Interpolation:Estimate missing values by linearly interpolating between adjacent observed values.\n",
    "Assumes consistent change between measurements, which may not be realistic."
   ]
  },
  {
   "cell_type": "code",
   "execution_count": null,
   "id": "8babdfcd-700f-4eac-9182-74a8465dac28",
   "metadata": {},
   "outputs": [],
   "source": [
    "Q8. What are some common post-hoc tests used after ANOVA, and when would you use each one? Provide\n",
    "an example of a situation where a post-hoc test might be necessary.\n",
    "Tukey's Honestly Significant Difference:-When all groups have equal variances (homoscedasticity) and equal sample sizes.\n",
    "\n",
    "Bonferroni Correction: For multiple pairwise comparisons with any type of data.\n",
    "\n",
    "A researcher conducts a one-way ANOVA to study the effect of three different exercise programs (Yoga, HIIT, and Pilates) on weight loss. \n",
    "The ANOVA result indicates a significant difference among the program\n",
    "The ANOVA result shows that at least one group mean is different but does not specify which groups differ (e.g., Yoga vs. HIIT, HIIT vs. Pilates, etc.).\n",
    "To pinpoint the specific differences, a post-hoc test like Tukey’s HSD can be applied.\n"
   ]
  },
  {
   "cell_type": "code",
   "execution_count": null,
   "id": "ed207a0d-fda4-43db-bc82-beabcc032186",
   "metadata": {},
   "outputs": [],
   "source": [
    "Q9. A researcher wants to compare the mean weight loss of three diets: A, B, and C. They collect data from\n",
    "50 participants who were randomly assigned to one of the diets. Conduct a one-way ANOVA using Python\n",
    "to determine if there are any significant differences between the mean weight loss of the three diets.\n",
    "Report the F-statistic and p-value, and interpret the results.\n",
    "\n",
    "\n",
    "Null Hypothesis The means of weight loss for the three diets are equal:muA=muB=muC\n",
    "Alternative Hypothesis At least one diet has a different mean weight loss"
   ]
  },
  {
   "cell_type": "code",
   "execution_count": 19,
   "id": "e9d3acb6-bd04-4fd2-a198-3a173c321ce2",
   "metadata": {},
   "outputs": [
    {
     "name": "stdout",
     "output_type": "stream",
     "text": [
      "F-statistic: 173.91\n",
      "P-value: 0.0000\n"
     ]
    }
   ],
   "source": [
    "import scipy.stats as stats\n",
    "import numpy as np\n",
    "\n",
    "# Sample data\n",
    "diet_A = np.random.normal(5, 0.5, 50)  # Simulated data for Diet A\n",
    "diet_B = np.random.normal(4, 0.5, 50)  # Simulated data for Diet B\n",
    "diet_C = np.random.normal(6, 0.5, 50)  # Simulated data for Diet C\n",
    "\n",
    "# Perform one-way ANOVA\n",
    "f_statistic, p_value = stats.f_oneway(diet_A, diet_B, diet_C)\n",
    "\n",
    "# Results\n",
    "print(f\"F-statistic: {f_statistic:.2f}\")\n",
    "print(f\"P-value: {p_value:.4f}\")\n",
    "# The p-value of 0.0000is much smaller than the significance level (alpha=0.05).\n",
    "# null hypothesis rejected"
   ]
  },
  {
   "cell_type": "code",
   "execution_count": 20,
   "id": "0b90290a-2177-495c-b773-42c9cee92c95",
   "metadata": {},
   "outputs": [],
   "source": [
    "Q10. A company wants to know if there are any significant differences in the average time it takes to\n",
    "complete a task using three different software programs: Program A, Program B, and Program C. They\n",
    "randomly assign 30 employees to one of the programs and record the time it takes each employee to\n",
    "complete the task. Conduct a two-way ANOVA using Python to determine if there are any main effects or\n",
    "interaction effects between the software programs and employee experience level (novice vs.\n",
    "experienced). Report the F-statistics and p-values, and interpret the results.\n"
   ]
  },
  {
   "cell_type": "code",
   "execution_count": 26,
   "id": "ae4327d1-27cd-4958-a633-68f240da700c",
   "metadata": {},
   "outputs": [
    {
     "name": "stdout",
     "output_type": "stream",
     "text": [
      "                 Source     SS  DF     MS           F         p-unc       np2\n",
      "0               Program  601.4   2  300.7  111.370370  7.172070e-13  0.902732\n",
      "1            Experience  307.2   1  307.2  113.777778  1.373401e-10  0.825806\n",
      "2  Program * Experience   11.4   2    5.7    2.111111  1.430344e-01  0.149606\n",
      "3              Residual   64.8  24    2.7         NaN           NaN       NaN\n"
     ]
    }
   ],
   "source": [
    "import pandas as pd\n",
    "import pingouin as pg\n",
    "\n",
    "# Example data\n",
    "data = pd.DataFrame({\n",
    "    'Program': ['A'] * 10 + ['B'] * 10 + ['C'] * 10,\n",
    "    'Experience': ['Novice'] * 5 + ['Experienced'] * 5 + ['Novice'] * 5 + ['Experienced'] * 5 + ['Novice'] * 5 + ['Experienced'] * 5,\n",
    "    'Time': [35, 40, 38, 36, 37, 30, 32, 31, 33, 29,\n",
    "             40, 42, 41, 39, 43, 35, 34, 36, 37, 38,\n",
    "             50, 48, 49, 47, 51, 40, 41, 39, 42, 43]\n",
    "})\n",
    "\n",
    "# Perform two-way ANOVA\n",
    "anova = pg.anova(dv='Time', between=['Program', 'Experience'], data=data, detailed=True)\n",
    "\n",
    "# Display results\n",
    "print(anova)\n"
   ]
  },
  {
   "cell_type": "code",
   "execution_count": null,
   "id": "54ba1211-de29-4067-a99b-ac843ee14ba0",
   "metadata": {},
   "outputs": [],
   "source": [
    "Q11. An educational researcher is interested in whether a new teaching method improves student test\n",
    "scores. They randomly assign 100 students to either the control group (traditional teaching method) or the\n",
    "experimental group (new teaching method) and administer a test at the end of the semester. Conduct a\n",
    "two-sample t-test using Python to determine if there are any significant differences in test scores\n",
    "between the two groups. If the results are significant, follow up with a post-hoc test to determine which\n",
    "group(s) differ significantly from each other.\n",
    "\n",
    "\n",
    "Null Hypothesis (H₀)The mean test scores for the control and experimental groups are equal.\n",
    "Alternative Hypothesis (H₁): The mean test scores for the control and experimental groups are different.\n"
   ]
  },
  {
   "cell_type": "code",
   "execution_count": 32,
   "id": "33da90f8-c577-4207-8cb9-20212844b513",
   "metadata": {},
   "outputs": [
    {
     "name": "stdout",
     "output_type": "stream",
     "text": [
      "Levene's test statistic: 0.18, p-value: 0.672\n",
      "T-test statistic: -4.75, p-value: 0.000\n"
     ]
    }
   ],
   "source": [
    "import numpy as np\n",
    "from scipy.stats import ttest_ind, levene\n",
    "\n",
    "# Simulated data\n",
    "np.random.seed(42)  # For reproducibility\n",
    "control_group = np.random.normal(loc=70, scale=10, size=100)  # Control group scores\n",
    "experimental_group = np.random.normal(loc=75, scale=10, size=100)  # Experimental group scores\n",
    "\n",
    "# Check variance equality using Levene's Test\n",
    "stat, p_var = levene(control_group, experimental_group)\n",
    "print(f\"Levene's test statistic: {stat:.2f}, p-value: {p_var:.3f}\")\n",
    "\n",
    "# Two-sample t-test\n",
    "stat, p_value = ttest_ind(control_group, experimental_group)\n",
    "print(f\"T-test statistic: {stat:.2f}, p-value: {p_value:.3f}\")"
   ]
  },
  {
   "cell_type": "code",
   "execution_count": null,
   "id": "34d1f055-b102-41b4-920a-1817df83db3d",
   "metadata": {},
   "outputs": [],
   "source": [
    "Q12. A researcher wants to know if there are any significant differences in the average daily sales of three\n",
    "retail stores: Store A, Store B, and Store C. They randomly select 30 days and record the sales for each store\n",
    "on those days. Conduct a repeated measures ANOVA using Python to determine if there are any\n",
    "\n",
    "significant differences in sales between the three stores. If the results are significant, follow up with a post-\n",
    "hoc test to determine which store(s) differ significantly from each other."
   ]
  },
  {
   "cell_type": "code",
   "execution_count": 39,
   "id": "dcaa7525-9465-4246-a5d4-d634bf3cefd7",
   "metadata": {},
   "outputs": [],
   "source": [
    "import pandas as pd\n",
    "import numpy as np\n",
    "\n",
    "# Example data (randomly generated)\n",
    "np.random.seed(42)\n",
    "data = {\n",
    "    'Day': np.arange(1, 31),\n",
    "    'Store_A': np.random.randint(200, 300, 30),\n",
    "    'Store_B': np.random.randint(220, 320, 30),\n",
    "    'Store_C': np.random.randint(210, 310, 30)\n",
    "}\n",
    "\n",
    "df = pd.DataFrame(data)\n",
    "# print(df)\n"
   ]
  },
  {
   "cell_type": "code",
   "execution_count": 37,
   "id": "5572695d-5779-41c5-8270-0f559d8ce284",
   "metadata": {},
   "outputs": [
    {
     "name": "stdout",
     "output_type": "stream",
     "text": [
      "  Source  ddof1  ddof2         F     p-unc       ng2       eps\n",
      "0  Store      2     58  2.174119  0.122888  0.050884  0.977391\n"
     ]
    },
    {
     "data": {
      "text/html": [
       "<div>\n",
       "<style scoped>\n",
       "    .dataframe tbody tr th:only-of-type {\n",
       "        vertical-align: middle;\n",
       "    }\n",
       "\n",
       "    .dataframe tbody tr th {\n",
       "        vertical-align: top;\n",
       "    }\n",
       "\n",
       "    .dataframe thead th {\n",
       "        text-align: right;\n",
       "    }\n",
       "</style>\n",
       "<table border=\"1\" class=\"dataframe\">\n",
       "  <thead>\n",
       "    <tr style=\"text-align: right;\">\n",
       "      <th></th>\n",
       "      <th>Day</th>\n",
       "      <th>Store</th>\n",
       "      <th>Sales</th>\n",
       "    </tr>\n",
       "  </thead>\n",
       "  <tbody>\n",
       "    <tr>\n",
       "      <th>0</th>\n",
       "      <td>1</td>\n",
       "      <td>Store_A</td>\n",
       "      <td>251</td>\n",
       "    </tr>\n",
       "    <tr>\n",
       "      <th>1</th>\n",
       "      <td>2</td>\n",
       "      <td>Store_A</td>\n",
       "      <td>292</td>\n",
       "    </tr>\n",
       "    <tr>\n",
       "      <th>2</th>\n",
       "      <td>3</td>\n",
       "      <td>Store_A</td>\n",
       "      <td>214</td>\n",
       "    </tr>\n",
       "    <tr>\n",
       "      <th>3</th>\n",
       "      <td>4</td>\n",
       "      <td>Store_A</td>\n",
       "      <td>271</td>\n",
       "    </tr>\n",
       "    <tr>\n",
       "      <th>4</th>\n",
       "      <td>5</td>\n",
       "      <td>Store_A</td>\n",
       "      <td>260</td>\n",
       "    </tr>\n",
       "    <tr>\n",
       "      <th>...</th>\n",
       "      <td>...</td>\n",
       "      <td>...</td>\n",
       "      <td>...</td>\n",
       "    </tr>\n",
       "    <tr>\n",
       "      <th>85</th>\n",
       "      <td>26</td>\n",
       "      <td>Store_C</td>\n",
       "      <td>309</td>\n",
       "    </tr>\n",
       "    <tr>\n",
       "      <th>86</th>\n",
       "      <td>27</td>\n",
       "      <td>Store_C</td>\n",
       "      <td>223</td>\n",
       "    </tr>\n",
       "    <tr>\n",
       "      <th>87</th>\n",
       "      <td>28</td>\n",
       "      <td>Store_C</td>\n",
       "      <td>304</td>\n",
       "    </tr>\n",
       "    <tr>\n",
       "      <th>88</th>\n",
       "      <td>29</td>\n",
       "      <td>Store_C</td>\n",
       "      <td>257</td>\n",
       "    </tr>\n",
       "    <tr>\n",
       "      <th>89</th>\n",
       "      <td>30</td>\n",
       "      <td>Store_C</td>\n",
       "      <td>224</td>\n",
       "    </tr>\n",
       "  </tbody>\n",
       "</table>\n",
       "<p>90 rows × 3 columns</p>\n",
       "</div>"
      ],
      "text/plain": [
       "    Day    Store  Sales\n",
       "0     1  Store_A    251\n",
       "1     2  Store_A    292\n",
       "2     3  Store_A    214\n",
       "3     4  Store_A    271\n",
       "4     5  Store_A    260\n",
       "..  ...      ...    ...\n",
       "85   26  Store_C    309\n",
       "86   27  Store_C    223\n",
       "87   28  Store_C    304\n",
       "88   29  Store_C    257\n",
       "89   30  Store_C    224\n",
       "\n",
       "[90 rows x 3 columns]"
      ]
     },
     "execution_count": 37,
     "metadata": {},
     "output_type": "execute_result"
    }
   ],
   "source": [
    "from pingouin import rm_anova\n",
    "\n",
    "# Reshape the data to long format\n",
    "df_long = pd.melt(df, id_vars=['Day'], value_vars=['Store_A', 'Store_B', 'Store_C'], \n",
    "                  var_name='Store', value_name='Sales')\n",
    "\n",
    "# Conduct repeated measures ANOVA\n",
    "anova_results = rm_anova(data=df_long, dv='Sales', within='Store', subject='Day')\n",
    "print(anova_results)\n",
    "# df_long "
   ]
  },
  {
   "cell_type": "code",
   "execution_count": 41,
   "id": "02a052ef-41af-4c8a-b295-c0e16cf7fe2a",
   "metadata": {},
   "outputs": [],
   "source": [
    "# p<0.05, there is a statistically significant difference between the stores."
   ]
  },
  {
   "cell_type": "code",
   "execution_count": 42,
   "id": "a8287543-a49d-4391-b206-600f7f00c61c",
   "metadata": {},
   "outputs": [
    {
     "name": "stdout",
     "output_type": "stream",
     "text": [
      "  Contrast        A        B  Paired  Parametric         T   dof alternative  \\\n",
      "0    Store  Store_A  Store_B    True        True -2.222562  29.0   two-sided   \n",
      "1    Store  Store_A  Store_C    True        True -0.915954  29.0   two-sided   \n",
      "2    Store  Store_B  Store_C    True        True  1.096898  29.0   two-sided   \n",
      "\n",
      "      p-unc    p-corr p-adjust   BF10    hedges  \n",
      "0  0.034203  0.102608     bonf  1.623 -0.554848  \n",
      "1  0.367245  1.000000     bonf  0.285 -0.236588  \n",
      "2  0.281711  0.845134     bonf  0.336  0.310219  \n"
     ]
    }
   ],
   "source": [
    "from pingouin import pairwise_tests\n",
    "\n",
    "# Pairwise post-hoc tests\n",
    "posthoc_results = pairwise_tests(data=df_long, dv='Sales', within='Store', subject='Day', padjust='bonf')\n",
    "print(posthoc_results)\n"
   ]
  },
  {
   "cell_type": "code",
   "execution_count": null,
   "id": "83b15609-bf7b-4da5-b0c4-e90140ad7afb",
   "metadata": {},
   "outputs": [],
   "source": []
  }
 ],
 "metadata": {
  "kernelspec": {
   "display_name": "Python 3 (ipykernel)",
   "language": "python",
   "name": "python3"
  },
  "language_info": {
   "codemirror_mode": {
    "name": "ipython",
    "version": 3
   },
   "file_extension": ".py",
   "mimetype": "text/x-python",
   "name": "python",
   "nbconvert_exporter": "python",
   "pygments_lexer": "ipython3",
   "version": "3.11.4"
  }
 },
 "nbformat": 4,
 "nbformat_minor": 5
}

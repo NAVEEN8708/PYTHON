{
 "cells": [
  {
   "cell_type": "code",
   "execution_count": null,
   "id": "81621fca-d7ab-425c-a9da-64ad24315b39",
   "metadata": {},
   "outputs": [],
   "source": [
    "Q1. Write a Python function that takes in two arrays of data and calculates the F-value for a variance ratio\n",
    "test. The function should return the F-value and the corresponding p-value for the test.\n"
   ]
  },
  {
   "cell_type": "code",
   "execution_count": 5,
   "id": "81b7698a-32dd-45ee-8f66-b75d78f631f0",
   "metadata": {},
   "outputs": [
    {
     "name": "stdout",
     "output_type": "stream",
     "text": [
      "F-value: 1.3333333333333333\n",
      "P-value: 0.7138778999549844\n"
     ]
    }
   ],
   "source": [
    "import numpy as np\n",
    "from scipy import stats\n",
    "\n",
    "def variance_ratio_test(data1, data2):\n",
    "    # Calculate the variances of both datasets\n",
    "    var1 = np.var(data1, ddof=1)  # Sample variance (ddof=1 for unbiased estimation)\n",
    "    var2 = np.var(data2, ddof=1)\n",
    "    \n",
    "    # Calculate the F-statistic (variance ratio)\n",
    "    f_value = var1 / var2 if var1 >= var2 else var2 / var1\n",
    "    \n",
    "    # Degrees of freedom for each sample\n",
    "    df1 = len(data1) - 1\n",
    "    df2 = len(data2) - 1\n",
    "    \n",
    "    # Calculate the p-value from the F-distribution\n",
    "    p_value = 2 * min(stats.f.cdf(f_value, df1, df2), 1 - stats.f.cdf(f_value, df1, df2))\n",
    "    \n",
    "    return f_value, p_value\n",
    "\n",
    "# Example usage:\n",
    "data1 = np.array([10, 12, 9, 11, 13, 14, 8, 15])\n",
    "data2 = np.array([22, 20, 21, 23, 19, 24, 25, 20])\n",
    "\n",
    "f_value, p_value = variance_ratio_test(data1, data2)\n",
    "print(f\"F-value: {f_value}\")\n",
    "print(f\"P-value: {p_value}\")\n"
   ]
  },
  {
   "cell_type": "code",
   "execution_count": null,
   "id": "af145c86-0d91-4be6-a60c-857df1ea809a",
   "metadata": {},
   "outputs": [],
   "source": [
    "Q2. Given a significance level of 0.05 and the degrees of freedom for the numerator and denominator of an\n",
    "F-distribution, write a Python function that returns the critical F-value for a two-tailed test.\n"
   ]
  },
  {
   "cell_type": "code",
   "execution_count": 2,
   "id": "6b74518c-4cd1-42f4-8c04-d0b7ef14b6a4",
   "metadata": {},
   "outputs": [
    {
     "name": "stdout",
     "output_type": "stream",
     "text": [
      "Lower critical F-value: 0.07058467426541322\n",
      "Upper critical F-value: 3.858698666273216\n"
     ]
    }
   ],
   "source": [
    "from scipy.stats import f\n",
    "\n",
    "def critical_f_value(alpha, dfn, dfd):\n",
    "    # Calculate the critical F-value for the upper tail (1 - alpha/2)\n",
    "    f_upper = f.ppf(1 - alpha / 2, dfn, dfd)\n",
    "    \n",
    "    # Calculate the critical F-value for the lower tail (alpha/2)\n",
    "    f_lower = f.ppf(alpha / 2, dfn, dfd)\n",
    "    \n",
    "    return f_lower, f_upper\n",
    "\n",
    "# Example usage:\n",
    "alpha = 0.05  # Significance level\n",
    "dfn = 3       # Degrees of freedom for the numerator (e.g., number of groups - 1)\n",
    "dfd = 20      # Degrees of freedom for the denominator (e.g., total sample size - number of groups)\n",
    "\n",
    "f_lower, f_upper = critical_f_value(alpha, dfn, dfd)\n",
    "print(f\"Lower critical F-value: {f_lower}\")\n",
    "print(f\"Upper critical F-value: {f_upper}\")\n"
   ]
  },
  {
   "cell_type": "code",
   "execution_count": 12,
   "id": "2d05bdea-02c2-4c3b-aa95-8997dca6d4b9",
   "metadata": {},
   "outputs": [
    {
     "name": "stdout",
     "output_type": "stream",
     "text": [
      "F-value: 3.507681045961634\n",
      "Degrees of freedom for sample 1: 49\n",
      "Degrees of freedom for sample 2: 49\n",
      "P-value: 1.123844379480321e-05\n",
      "The variances are significantly different.\n"
     ]
    }
   ],
   "source": [
    "# Q3. Write a Python program that generates random samples from two normal distributions with known\n",
    "\n",
    "# variances and uses an F-test to determine if the variances are equal. The program should output the F-\n",
    "# value, degrees of freedom, and p-value for the test.\n",
    "\n",
    "import numpy as np\n",
    "from scipy.stats import f\n",
    "\n",
    "def f_test_sample_variances(sample1, sample2):\n",
    "    # Calculate variances of the two samples\n",
    "    var1 = np.var(sample1, ddof=1)  # Sample variance with ddof=1\n",
    "    var2 = np.var(sample2, ddof=1)  # Sample variance with ddof=1\n",
    "    \n",
    "    # Determine degrees of freedom for each sample\n",
    "    df1 = len(sample1) - 1  # Degrees of freedom for sample 1\n",
    "    df2 = len(sample2) - 1  # Degrees of freedom for sample 2\n",
    "    \n",
    "    # Calculate the F-statistic: ratio of variances (larger variance / smaller variance)\n",
    "    if var1 > var2:\n",
    "        f_statistic = var1 / var2\n",
    "    else:\n",
    "        f_statistic = var2 / var1\n",
    "        \n",
    "    # Calculate the p-value using the F-distribution\n",
    "    p_value = 1 - f.cdf(f_statistic, df1, df2)  # One-tailed test (right tail)\n",
    "    \n",
    "    return f_statistic, df1, df2, p_value\n",
    "\n",
    "# Example usage:\n",
    "# Generate two random samples from normal distributions\n",
    "np.random.seed(42)  # For reproducibility\n",
    "sample1 = np.random.normal(loc=0, scale=5, size=50)  # Normal distribution with mean 0, std 5\n",
    "sample2 = np.random.normal(loc=0, scale=10, size=50)  # Normal distribution with mean 0, std 10\n",
    "\n",
    "# Perform F-test to compare variances\n",
    "f_stat, df1, df2, p_value= f_test_sample_variances(sample1, sample2)\n",
    "\n",
    "print(f\"F-value: {f_stat}\")\n",
    "print(f\"Degrees of freedom for sample 1: {df1}\")\n",
    "print(f\"Degrees of freedom for sample 2: {df2}\")\n",
    "print(f\"P-value: {p_value}\")\n",
    "# Interpretation\n",
    "if p_value < 0.05:\n",
    "    print(\"The variances are significantly different.\")\n",
    "else:\n",
    "    print(\"The variances are not significantly different.\")\n"
   ]
  },
  {
   "cell_type": "code",
   "execution_count": null,
   "id": "eded8187-9968-4638-a68b-cf1316ecb112",
   "metadata": {},
   "outputs": [],
   "source": [
    "Q4.The variances of two populations are known to be 10 and 15. A sample of 12 observations is taken from\n",
    "each population. Conduct an F-test at the 5% significance level to determine if the variances are\n",
    "significantly different.\n"
   ]
  },
  {
   "cell_type": "code",
   "execution_count": 6,
   "id": "5ddeac2e-1d28-46ad-a35e-ebafb6910917",
   "metadata": {},
   "outputs": [
    {
     "data": {
      "text/plain": [
       "(1.5, 0.28787755798459863, 3.473699051085809)"
      ]
     },
     "execution_count": 6,
     "metadata": {},
     "output_type": "execute_result"
    }
   ],
   "source": [
    "import scipy.stats as stats\n",
    "\n",
    "# Given data\n",
    "sigma1_squared = 10  # Population variance 1\n",
    "sigma2_squared = 15  # Population variance 2\n",
    "n1 = 12  # Sample size for population 1\n",
    "n2 = 12  # Sample size for population 2\n",
    "alpha = 0.05  # Significance level\n",
    "\n",
    "# Degrees of freedom\n",
    "df1 = n1 - 1\n",
    "df2 = n2 - 1\n",
    "\n",
    "# F-statistic calculation (ratio of the two variances)\n",
    "F_statistic = sigma1_squared / sigma2_squared if sigma1_squared > sigma2_squared else sigma2_squared / sigma1_squared\n",
    "\n",
    "# Critical F-values from the F-distribution (two-tailed test)\n",
    "F_lower = stats.f.ppf(alpha / 2, df1, df2)  # Critical value for the lower tail\n",
    "F_upper = stats.f.ppf(1 - alpha / 2, df1, df2)  # Critical value for the upper tail\n",
    "\n",
    "F_statistic, F_lower, F_upper\n"
   ]
  },
  {
   "cell_type": "code",
   "execution_count": null,
   "id": "a3fbbaa9-bf39-4d8b-816a-18d2c494aef8",
   "metadata": {},
   "outputs": [],
   "source": [
    "Q5. A manufacturer claims that the variance of the diameter of a certain product is 0.005. A sample of 25\n",
    "products is taken, and the sample variance is found to be 0.006. Conduct an F-test at the 1% significance\n",
    "level to determine if the claim is justified.\n"
   ]
  },
  {
   "cell_type": "code",
   "execution_count": 7,
   "id": "8d166ff3-de59-4dd0-ab5c-d0e036e7b22d",
   "metadata": {},
   "outputs": [
    {
     "data": {
      "text/plain": [
       "(1.2, 0.3370701342685674, 2.966741631292762)"
      ]
     },
     "execution_count": 7,
     "metadata": {},
     "output_type": "execute_result"
    }
   ],
   "source": [
    "import scipy.stats as stats\n",
    "\n",
    "# Given data\n",
    "sigma1_squared = 0.005 # Population variance 1\n",
    "sigma2_squared = 0.006  # Population variance 2\n",
    "n1 = 25  # Sample size for population 1\n",
    "n2 = 25  # Sample size for population 2\n",
    "alpha = 0.01  # Significance level\n",
    "\n",
    "# Degrees of freedom\n",
    "df1 = n1 - 1\n",
    "df2 = n2 - 1\n",
    "\n",
    "# F-statistic calculation (ratio of the two variances)\n",
    "F_statistic = sigma1_squared / sigma2_squared if sigma1_squared > sigma2_squared else sigma2_squared / sigma1_squared\n",
    "\n",
    "# Critical F-values from the F-distribution (two-tailed test)\n",
    "F_lower = stats.f.ppf(alpha / 2, df1, df2)  # Critical value for the lower tail\n",
    "F_upper = stats.f.ppf(1 - alpha / 2, df1, df2)  # Critical value for the upper tail\n",
    "\n",
    "F_statistic, F_lower, F_upper\n",
    "# accepts the null hypothesis that is  variance are same "
   ]
  },
  {
   "cell_type": "code",
   "execution_count": null,
   "id": "d7be6d28-4d82-4de6-95e0-8107de4cf525",
   "metadata": {},
   "outputs": [],
   "source": [
    "Q6. Write a Python function that takes in the degrees of freedom for the numerator and denominator of an\n",
    "F-distribution and calculates the mean and variance of the distribution. The function should return the\n",
    "mean and variance as a tuple.\n"
   ]
  },
  {
   "cell_type": "code",
   "execution_count": 9,
   "id": "09bd216d-d884-48d9-a1b6-9a716af5235d",
   "metadata": {},
   "outputs": [
    {
     "name": "stdout",
     "output_type": "stream",
     "text": [
      "Mean: 1.25\n",
      "Variance: 1.3541666666666667\n"
     ]
    }
   ],
   "source": [
    "def f_distribution_mean_variance(df1, df2):\n",
    "    \"\"\"\n",
    "    Calculates the mean and variance of an F-distribution.\n",
    "    \n",
    "    Parameters:\n",
    "    df1 (int): Degrees of freedom for the numerator\n",
    "    df2 (int): Degrees of freedom for the denominator\n",
    "    \n",
    "    Returns:\n",
    "    tuple: (mean, variance) of the F-distribution\n",
    "    \"\"\"\n",
    "    \n",
    "    # Check if the degrees of freedom are valid\n",
    "    if df2 <= 2:\n",
    "        raise ValueError(\"For calculating mean, df2 must be greater than 2.\")\n",
    "    if df2 <= 4:\n",
    "        raise ValueError(\"For calculating variance, df2 must be greater than 4.\")\n",
    "    \n",
    "    # Mean of the F-distribution\n",
    "    mean = df2 / (df2 - 2)\n",
    "    \n",
    "    # Variance of the F-distribution\n",
    "    variance = (2 * df2**2 * (df1 + df2 - 2)) / (df1 * (df2 - 2)**2 * (df2 - 4))\n",
    "    \n",
    "    return mean, variance\n",
    "mean, variance = f_distribution_mean_variance(5, 10)\n",
    "print(\"Mean:\", mean)\n",
    "print(\"Variance:\", variance)"
   ]
  },
  {
   "cell_type": "code",
   "execution_count": null,
   "id": "7d88b78f-3a7e-4a9f-8ffe-abcfd12814e9",
   "metadata": {},
   "outputs": [],
   "source": [
    "Q7. A random sample of 10 measurements is taken from a normal population with unknown variance. The\n",
    "sample variance is found to be 25. Another random sample of 15 measurements is taken from another\n",
    "normal population with unknown variance, and the sample variance is found to be 20. Conduct an F-test\n",
    "at the 10% significance level to determine if the variances are significantly different.\n"
   ]
  },
  {
   "cell_type": "code",
   "execution_count": 10,
   "id": "f76bcbfa-271b-4fa5-8f91-48aba0460c1c",
   "metadata": {},
   "outputs": [
    {
     "data": {
      "text/plain": [
       "(1.25, 0.3305268601412525, 2.6457907352338195)"
      ]
     },
     "execution_count": 10,
     "metadata": {},
     "output_type": "execute_result"
    }
   ],
   "source": [
    "import scipy.stats as stats\n",
    "\n",
    "# Given data\n",
    "sigma1_squared = 25 # Population variance 1\n",
    "sigma2_squared = 20  # Population variance 2\n",
    "n1 = 10  # Sample size for population 1\n",
    "n2 = 15  # Sample size for population 2\n",
    "alpha = 0.1  # Significance level\n",
    "\n",
    "# Degrees of freedom\n",
    "df1 = n1 - 1\n",
    "df2 = n2 - 1\n",
    "\n",
    "# F-statistic calculation (ratio of the two variances)\n",
    "F_statistic = sigma1_squared / sigma2_squared if sigma1_squared > sigma2_squared else sigma2_squared / sigma1_squared\n",
    "\n",
    "# Critical F-values from the F-distribution (two-tailed test)\n",
    "F_lower = stats.f.ppf(alpha / 2, df1, df2)  # Critical value for the lower tail\n",
    "F_upper = stats.f.ppf(1 - alpha / 2, df1, df2)  # Critical value for the upper tail\n",
    "\n",
    "F_statistic, F_lower, F_upper\n",
    "# accepts the null hypothesis that is  variance are same \n"
   ]
  },
  {
   "cell_type": "code",
   "execution_count": null,
   "id": "db45c375-be26-4244-9f67-d63f02ec1950",
   "metadata": {},
   "outputs": [],
   "source": [
    "Q8. The following data represent the waiting times in minutes at two different restaurants on a Saturday\n",
    "night: Restaurant A: 24, 25, 28, 23, 22, 20, 27; Restaurant B: 31, 33, 35, 30, 32, 36. Conduct an F-test at the 5%\n",
    "significance level to determine if the variances are significantly different.\n"
   ]
  },
  {
   "cell_type": "code",
   "execution_count": 13,
   "id": "5af988ac-cdd4-4d0a-aeed-ec37e2883003",
   "metadata": {},
   "outputs": [
    {
     "data": {
      "text/plain": [
       "(1.4551907719609583, 0.16701279718024772, 6.977701858535566)"
      ]
     },
     "execution_count": 13,
     "metadata": {},
     "output_type": "execute_result"
    }
   ],
   "source": [
    "import scipy.stats as stats\n",
    "restaurant_A = [24, 25, 28, 23, 22, 20, 27]\n",
    "restaurant_B = [31, 33, 35, 30, 32, 36]\n",
    "# Sample sizes\n",
    "n_A = len(restaurant_A)\n",
    "n_B = len(restaurant_B)\n",
    "sigma1_squared = np.var(restaurant_A, ddof=1)  # Sample variance for A (ddof=1 for sample variance)\n",
    "sigma2_squared = np.var(restaurant_B, ddof=1) \n",
    "n1 = n_A # Sample size for population 1\n",
    "n2 = n_B  # Sample size for population 2\n",
    "alpha = 0.05  # Significance level\n",
    "\n",
    "# Degrees of freedom\n",
    "df1 = n1 - 1\n",
    "df2 = n2 - 1\n",
    "\n",
    "# F-statistic calculation (ratio of the two variances)\n",
    "F_statistic = sigma1_squared / sigma2_squared if sigma1_squared > sigma2_squared else sigma2_squared / sigma1_squared\n",
    "\n",
    "# Critical F-values from the F-distribution (two-tailed test)\n",
    "F_lower = stats.f.ppf(alpha / 2, df1, df2)  # Critical value for the lower tail\n",
    "F_upper = stats.f.ppf(1 - alpha / 2, df1, df2)  # Critical value for the upper tail\n",
    "\n",
    "F_statistic, F_lower, F_upper\n",
    "# accepts the null hypothesis that is  variance are same \n"
   ]
  },
  {
   "cell_type": "code",
   "execution_count": null,
   "id": "ffa527d6-d014-41ca-a582-7a404376a98e",
   "metadata": {},
   "outputs": [],
   "source": [
    "Q9. The following data represent the test scores of two groups of students: Group A: 80, 85, 90, 92, 87, 83;\n",
    "Group B: 75, 78, 82, 79, 81, 84. Conduct an F-test at the 1% significance level to determine if the variances\n",
    "are significantly different."
   ]
  },
  {
   "cell_type": "code",
   "execution_count": 16,
   "id": "5908d507-c812-407b-b71a-f84cb753ca36",
   "metadata": {},
   "outputs": [
    {
     "data": {
      "text/plain": [
       "(1.9442622950819677, 0.13993095022986143, 7.146381828732832)"
      ]
     },
     "execution_count": 16,
     "metadata": {},
     "output_type": "execute_result"
    }
   ],
   "source": [
    "import numpy as np\n",
    "\n",
    "# Data for the restaurants\n",
    "A = [80, 85, 90, 92, 87, 83]\n",
    "B=[75, 78, 82, 79, 81, 84]\n",
    "# Sample sizes\n",
    "n_A = len(A)\n",
    "n_B = len(B)\n",
    "\n",
    "# Sample variances\n",
    "s_A_squared = np.var(A, ddof=1)  # Sample variance for A (ddof=1 for sample variance)\n",
    "s_B_squared = np.var(B, ddof=1)  # Sample variance for B\n",
    "\n",
    "# Degrees of freedom\n",
    "df_A = n_A - 1\n",
    "df_B = n_B - 1\n",
    "\n",
    "# F-statistic calculation (ratio of the two sample variances)\n",
    "F_statistic = s_A_squared / s_B_squared if s_A_squared > s_B_squared else s_B_squared / s_A_squared\n",
    "\n",
    "# Critical F-values from the F-distribution (two-tailed test)\n",
    "F_lower = stats.f.ppf(0.025, df_A, df_B)  # Critical value for the lower tail\n",
    "F_upper = stats.f.ppf(0.975, df_A, df_B)  # Critical value for the upper tail\n",
    "\n",
    "F_statistic, F_lower, F_upper\n"
   ]
  },
  {
   "cell_type": "code",
   "execution_count": null,
   "id": "464128d2-d5e2-4639-8039-c0ddb7ec1432",
   "metadata": {},
   "outputs": [],
   "source": []
  },
  {
   "cell_type": "code",
   "execution_count": null,
   "id": "010a19ac-df0a-4962-9e81-014ae8410267",
   "metadata": {},
   "outputs": [],
   "source": []
  },
  {
   "cell_type": "code",
   "execution_count": null,
   "id": "99a0bb8c-8709-40b5-af27-8aa3b247b75f",
   "metadata": {},
   "outputs": [],
   "source": []
  },
  {
   "cell_type": "code",
   "execution_count": null,
   "id": "12737ec8-c31f-4a98-8b97-1e5c1032b183",
   "metadata": {},
   "outputs": [],
   "source": []
  },
  {
   "cell_type": "code",
   "execution_count": null,
   "id": "19ec3dcf-230f-4cd4-ab44-d558d238b708",
   "metadata": {},
   "outputs": [],
   "source": []
  },
  {
   "cell_type": "code",
   "execution_count": null,
   "id": "a0640f33-9fba-49a8-8576-129888f83800",
   "metadata": {},
   "outputs": [],
   "source": []
  },
  {
   "cell_type": "code",
   "execution_count": null,
   "id": "c9090961-5e97-479f-a955-c5f169eabf8b",
   "metadata": {},
   "outputs": [],
   "source": []
  },
  {
   "cell_type": "code",
   "execution_count": null,
   "id": "c485b2c4-46cf-4dc4-9f6a-b58693446b8d",
   "metadata": {},
   "outputs": [],
   "source": []
  },
  {
   "cell_type": "code",
   "execution_count": null,
   "id": "13652964-bc8d-41b4-9c8c-13e00b20f13c",
   "metadata": {},
   "outputs": [],
   "source": []
  },
  {
   "cell_type": "code",
   "execution_count": null,
   "id": "6917bf44-d078-408e-b792-37bdf5f5a9b1",
   "metadata": {},
   "outputs": [],
   "source": []
  },
  {
   "cell_type": "code",
   "execution_count": null,
   "id": "3e466f9f-f9f5-4c82-933e-f75d45ee6d35",
   "metadata": {},
   "outputs": [],
   "source": []
  },
  {
   "cell_type": "code",
   "execution_count": null,
   "id": "2a399e0e-4b84-404a-87af-ffbae3c0e1c9",
   "metadata": {},
   "outputs": [],
   "source": []
  },
  {
   "cell_type": "code",
   "execution_count": null,
   "id": "a5199e45-4cd4-42f0-9cb1-c43e877deadb",
   "metadata": {},
   "outputs": [],
   "source": []
  },
  {
   "cell_type": "code",
   "execution_count": null,
   "id": "90f2d292-1448-4b17-9c3e-e40d8c041b2c",
   "metadata": {},
   "outputs": [],
   "source": []
  },
  {
   "cell_type": "code",
   "execution_count": null,
   "id": "3371e89c-c710-4e92-aa86-4102ed45a3af",
   "metadata": {},
   "outputs": [],
   "source": []
  },
  {
   "cell_type": "code",
   "execution_count": null,
   "id": "e6582384-5c6c-4abc-ad60-4c9164d19dbb",
   "metadata": {},
   "outputs": [],
   "source": []
  }
 ],
 "metadata": {
  "kernelspec": {
   "display_name": "Python 3 (ipykernel)",
   "language": "python",
   "name": "python3"
  },
  "language_info": {
   "codemirror_mode": {
    "name": "ipython",
    "version": 3
   },
   "file_extension": ".py",
   "mimetype": "text/x-python",
   "name": "python",
   "nbconvert_exporter": "python",
   "pygments_lexer": "ipython3",
   "version": "3.11.4"
  }
 },
 "nbformat": 4,
 "nbformat_minor": 5
}

{
 "cells": [
  {
   "cell_type": "code",
   "execution_count": null,
   "id": "3ee6ff30-fb5a-4d9d-ae35-a579abf3bc81",
   "metadata": {},
   "outputs": [],
   "source": [
    "Q1: What is the difference between a t-test and a z-test? Provide an example scenario where you would\n",
    "use each type of test.\n",
    "t-test: Used when the sample size is small (n < 30) and/or the population standard deviation is unknown.\n",
    "Example: Comparing the means of test scores from two small groups of students to see if there's a significant difference.\n",
    "\n",
    "z-test: Used when the sample size is large (n ≥ 30) and the population standard deviation is known.\n",
    "Example: Determining if the average height of a sample of 100 individuals differs significantly from the population mean, given the population standard deviation.\n"
   ]
  },
  {
   "cell_type": "code",
   "execution_count": null,
   "id": "b707b718-d851-41d6-9cca-bb08d3ea932d",
   "metadata": {},
   "outputs": [],
   "source": [
    "Q2: Differentiate between one-tailed and two-tailed tests\n",
    "One-tailed test: Tests for an effect in a specific direction (greater than or less than).\n",
    "Example: Testing if a new drug increases heart rate (only looking for an increase).\n",
    "\n",
    "Two-tailed test: Tests for an effect in both directions (different from a specific value).\n",
    "Example: Testing if a new teaching method changes test scores (could increase or decrease).\n",
    "\n",
    "\n",
    "\n"
   ]
  },
  {
   "cell_type": "code",
   "execution_count": null,
   "id": "5b7b271c-5426-4a72-972c-ea4807972d0f",
   "metadata": {},
   "outputs": [],
   "source": [
    "Q3: Explain the concept of Type 1 and Type 2 errors in hypothesis testing. Provide an example scenario for\n",
    "each type of error.\n",
    "Type 1 error (False positive): Rejecting the null hypothesis when it is true.\n",
    "Example: Concluding a new drug works when it actually doesn’t.\n",
    "\n",
    "Type 2 error (False negative): Failing to reject the null hypothesis when it is false.\n",
    "Example: Concluding a new drug doesn’t work when it actually does.                                                                                                      \n",
    "                                                                                                      \n"
   ]
  },
  {
   "cell_type": "code",
   "execution_count": null,
   "id": "dc94d1f8-ba59-46aa-94fb-524d8b367c0d",
   "metadata": {},
   "outputs": [],
   "source": [
    "Q4: Explain Bayes's theorem with an example.\n",
    "\n",
    "bayes theorem\n",
    "it is an approach to data analysis and parameter estimation\n",
    "based on bayes's theoram  \n",
    "probablity \n",
    "independent event: rolling a dice, tossing a coin\n",
    "dependent event: bag has marbel 3 red 2 yellow probability of drawing 2 yellow marbel\n",
    "conditional probablity\n",
    "P(B/A)=(P(B)*P(A/B))/P(A) ;Bayes's theorem  "
   ]
  },
  {
   "cell_type": "code",
   "execution_count": null,
   "id": "71f1db0b-0cbe-45a6-859d-264b8f6e1e19",
   "metadata": {},
   "outputs": [],
   "source": [
    "Q5: What is a confidence interval? How to calculate the confidence interval, explain with an example.\n",
    "\n",
    "A confidence interval gives a range of values that is likely to contain the population parameter.\n",
    "\n",
    "CI=xbar+-Z*(sigma/(sqrt(n))) \n"
   ]
  },
  {
   "cell_type": "code",
   "execution_count": null,
   "id": "f7930cb3-021e-49e9-9155-7dac993f47cf",
   "metadata": {},
   "outputs": [],
   "source": [
    "Q6. Use Bayes' Theorem to calculate the probability of an event occurring given prior knowledge of the\n",
    "event's probability and new evidence. Provide a sample problem and solution.\n",
    "\n",
    "A bag I contains 4 white and 6 black balls while another Bag II contains 4 white and 3 black balls.\n",
    "One ball is drawn at random from one of the bags, and it is found to be black.\n",
    "Find the probability that it was drawn from Bag I.\n",
    "probablity of choosing any one bay is (1/2)\n",
    "P(drawing a black ball from Bag I)== 6/10 \n",
    "P(drawing a black ball from Bag II)=3/7\n",
    "using Bayes’ theorem the probability\n",
    "of drawing a black ball from bag I out of two bags is= ((1/2)(6/10))/((1/2)(6/10)+(1/2)(3/7))\n",
    "                                                     =7/12"
   ]
  },
  {
   "cell_type": "code",
   "execution_count": null,
   "id": "121f1771-fa61-45e7-bfc1-85bde32680bf",
   "metadata": {},
   "outputs": [],
   "source": [
    "Q7. Calculate the 95% confidence interval for a sample of data with a mean of 50 and a standard deviation\n",
    "of 5. Interpret the results.\n",
    "let n=30\n",
    "    CI=50±1.96 * (5/sqrt(30) )  =(48.21,51.79)\n"
   ]
  },
  {
   "cell_type": "code",
   "execution_count": null,
   "id": "84e96c1f-2c02-41d7-8d0d-5710c344e948",
   "metadata": {},
   "outputs": [],
   "source": [
    "Q8. What is the margin of error in a confidence interval? How does sample size affect the margin of error?\n",
    "Provide an example of a scenario where a larger sample size would result in a smaller margin of error.\n",
    "\n",
    "Margin of error is the range of uncertainty around a sample estimate.\n",
    "Larger sample sizes reduce the margin of error.\n",
    "    if we do the above example for n=100\n",
    "     margin of error=0.5 which is reduced    "
   ]
  },
  {
   "cell_type": "code",
   "execution_count": null,
   "id": "955465dc-f43d-49c9-afd0-da3970b75528",
   "metadata": {},
   "outputs": [],
   "source": [
    "Q9. Calculate the z-score for a data point with a value of 75, a population mean of 70, and a population\n",
    "standard deviation of 5. Interpret the results.\n",
    "\n",
    "z=(75-70)/5=1\n",
    "The value is 1 standard deviation above the mean."
   ]
  },
  {
   "cell_type": "code",
   "execution_count": null,
   "id": "42bc120b-ec89-4fbd-abcd-80f6ed6319ce",
   "metadata": {},
   "outputs": [],
   "source": [
    "Q10. In a study of the effectiveness of a new weight loss drug, a sample of 50 participants lost an average\n",
    "of 6 pounds with a standard deviation of 2.5 pounds. Conduct a hypothesis test to determine if the drug is\n",
    "significantly effective at a 95% confidence level using a t-test.\n",
    "\n",
    "null hypo. Ho the drug is significantly effective \n",
    "alternate H1 the drug is not significantly effective \n",
    "let population mean =0\n",
    "t stats=(6-0)/(2.5/sqrt(50))=16.97\n",
    "t_table=2.009\n",
    "t_table<t stats   \n",
    "Ho is rejected,drug is not significantly effective"
   ]
  },
  {
   "cell_type": "code",
   "execution_count": null,
   "id": "f3cd603a-8b1c-455b-a99f-a60ecf45d589",
   "metadata": {},
   "outputs": [],
   "source": [
    "Q11. In a survey of 500 people, 65% reported being satisfied with their current job. Calculate the 95%\n",
    "confidence interval for the true proportion of people who are satisfied with their job.\n",
    "\n",
    "                    \n",
    "p= 0.65\n",
    "z-value for 95% confidence =1.96\n",
    "CI=p+-z*sqrt(p(1-p)/n)= 0.65+-0.0418\n",
    "CI=(0.6082,0.6918)"
   ]
  },
  {
   "cell_type": "code",
   "execution_count": null,
   "id": "e11b3bb0-bf75-483b-a4b6-069a65881f2a",
   "metadata": {},
   "outputs": [],
   "source": [
    "Q12. A researcher is testing the effectiveness of two different teaching methods on student performance.\n",
    "Sample A has a mean score of 85 with a standard deviation of 6, while sample B has a mean score of 82\n",
    "with a standard deviation of 5. Conduct a hypothesis test to determine if the two teaching methods have a\n",
    "significant difference in student performance using a t-test with a significance level of 0.01.\n",
    "\n",
    "null hypo. Ho there is significant difference in student performance\n",
    "alternate H1 there is no significant difference in student performance\n",
    "let n=100\n",
    "t stats=(85-82)/((6-5)/sqrt(100))=30\n",
    "t_table=2.364\n",
    "t_table<t stats\n",
    "Ho is rejected"
   ]
  },
  {
   "cell_type": "code",
   "execution_count": null,
   "id": "e15f7e53-a917-4e82-a569-591d5c7a3fe2",
   "metadata": {},
   "outputs": [],
   "source": [
    "Q13. A population has a mean of 60 and a standard deviation of 8. A sample of 50 observations has a mean\n",
    "of 65. Calculate the 90% confidence interval for the true population mean.\n",
    "CI=60 ± 1.64 * (8/sqrt(50) )\n",
    "CI=65±1.86\n",
    "\n",
    "CI=(63.14,66.86)"
   ]
  },
  {
   "cell_type": "code",
   "execution_count": null,
   "id": "5d54625e-e081-468a-8b7d-ddbc9caa1d42",
   "metadata": {},
   "outputs": [],
   "source": [
    "Q14. In a study of the effects of caffeine on reaction time, a sample of 30 participants had an average\n",
    "reaction time of 0.25 seconds with a standard deviation of 0.05 seconds. Conduct a hypothesis test to\n",
    "determine if the caffeine has a significant effect on reaction time at a 90% confidence level using a t-test.\n",
    "\n",
    "null hypo. Ho  the caffeine has a significant effect on reaction time \n",
    "alternate H1  the caffeine has a no  significant effect on reaction time \n",
    "let population mean =0\n",
    "let n=30\n",
    "t stats=(0.25-0)/(0.05/sqrt(30))=27.38\n",
    "t_table=1.699\n",
    "t_table<t stats\n",
    "Ho is rejected\n"
   ]
  }
 ],
 "metadata": {
  "kernelspec": {
   "display_name": "Python 3 (ipykernel)",
   "language": "python",
   "name": "python3"
  },
  "language_info": {
   "codemirror_mode": {
    "name": "ipython",
    "version": 3
   },
   "file_extension": ".py",
   "mimetype": "text/x-python",
   "name": "python",
   "nbconvert_exporter": "python",
   "pygments_lexer": "ipython3",
   "version": "3.11.4"
  }
 },
 "nbformat": 4,
 "nbformat_minor": 5
}

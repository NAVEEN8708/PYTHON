{
 "cells": [
  {
   "cell_type": "code",
   "execution_count": null,
   "id": "4b35c08d-f079-4e94-8b19-6e7d85ba8b86",
   "metadata": {},
   "outputs": [],
   "source": [
    "Q1. Calculate the 95% confidence interval for a sample of data with a mean of 50 and a standard deviation\n",
    "of 5 using Python. Interpret the results."
   ]
  },
  {
   "cell_type": "code",
   "execution_count": 7,
   "id": "2484c64a-6970-46e2-8ad6-b1e8ae9296de",
   "metadata": {},
   "outputs": [
    {
     "name": "stdout",
     "output_type": "stream",
     "text": [
      "Sample Mean (x̄): 50\n",
      "Standard Error (SE): 0.9129\n",
      "Margin of Error (ME): 1.7892\n",
      "95% Confidence Interval: (48.2108, 51.7892)\n"
     ]
    }
   ],
   "source": [
    "import math\n",
    "from scipy.stats import norm\n",
    "\n",
    "# Given values\n",
    "mean = 50         # Sample mean\n",
    "std_dev = 5       # Sample standard deviation\n",
    "n = 30            # Sample size (assuming 30 for this example)\n",
    "Z = norm.ppf(0.975)  # Z-value for 95% confidence (two-tailed)\n",
    "\n",
    "# Calculate the standard error (SE)\n",
    "SE = std_dev / math.sqrt(n)\n",
    "\n",
    "# Calculate the margin of error (ME)\n",
    "ME = Z * SE\n",
    "\n",
    "# Calculate the confidence interval\n",
    "lower_bound = mean - ME\n",
    "upper_bound = mean + ME\n",
    "\n",
    "# Display the results\n",
    "print(f\"Sample Mean (x̄): {mean}\")\n",
    "print(f\"Standard Error (SE): {SE:.4f}\")\n",
    "print(f\"Margin of Error (ME): {ME:.4f}\")\n",
    "print(f\"95% Confidence Interval: ({lower_bound:.4f}, {upper_bound:.4f})\")\n"
   ]
  },
  {
   "cell_type": "code",
   "execution_count": 2,
   "id": "03930d5e-8b82-4671-81ff-e5d0524e074f",
   "metadata": {},
   "outputs": [
    {
     "name": "stdout",
     "output_type": "stream",
     "text": [
      "accept the null\n"
     ]
    }
   ],
   "source": [
    "# Q2. Conduct a chi-square goodness of fit test to determine if the distribution of colors of M&Ms in a bag\n",
    "# matches the expected distribution of 20% blue, 20% orange, 20% green, 10% yellow, 10% red, and 20%\n",
    "# brown. Use Python to perform the test with a significance level of 0.05.\n",
    "import scipy.stats as stat\n",
    "import numpy as np\n",
    "from scipy.stats import chisquare\n",
    "\n",
    "observed = np.array([18, 22, 20, 12, 10, 18])  # blue, orange, green, yellow, red, brown\n",
    "expected_proportions = np.array([20, 20, 20, 10, 10, 20])\n",
    "total_observed = np.sum(observed)\n",
    "chi,p=stat.chisquare(observed,expected_proportions)\n",
    "# critical value\n",
    "alpha=0.05\n",
    "dof=len(observed)-1\n",
    "critical_value=stat.chi2.ppf(1-alpha,dof)\n",
    "critical_value\n",
    "if critical_value<chi:\n",
    "    print(\"rject the null hyp\" )\n",
    "else:\n",
    "    print(\"accept the null hyp.\")"
   ]
  },
  {
   "cell_type": "code",
   "execution_count": null,
   "id": "76ad3d54-fe63-4d0e-926c-9779bc8eb7a5",
   "metadata": {},
   "outputs": [],
   "source": [
    "# Q3. Use Python to calculate the chi-square statistic and p-value for a contingency table with the following\n",
    "# data:"
   ]
  },
  {
   "cell_type": "code",
   "execution_count": 6,
   "id": "00543d32-89a5-4aa7-9441-43119365f538",
   "metadata": {},
   "outputs": [
    {
     "name": "stdout",
     "output_type": "stream",
     "text": [
      "Chi-square Statistic: 5.83\n",
      "P-value: 0.0541\n",
      "Degrees of Freedom: 2\n",
      "Expected Frequencies:\n",
      "[[15. 20.]\n",
      " [15. 20.]\n",
      " [15. 20.]]\n",
      "Fail to reject the null hypothesis: No significant association between groups and outcomes.\n"
     ]
    }
   ],
   "source": [
    "import numpy as np\n",
    "from scipy.stats import chi2_contingency\n",
    "\n",
    "# Define the contingency table\n",
    "data = np.array([[20, 15],  # Outcome 1\n",
    "                 [10, 25],  # Outcome 2\n",
    "                 [15, 20]]) # Outcome 3\n",
    "\n",
    "# Perform the chi-square test\n",
    "chi2_stat, p_value, dof, expected = chi2_contingency(data)\n",
    "\n",
    "# Print results\n",
    "print(f\"Chi-square Statistic: {chi2_stat:.2f}\")\n",
    "print(f\"P-value: {p_value:.4f}\")\n",
    "print(f\"Degrees of Freedom: {dof}\")\n",
    "print(\"Expected Frequencies:\")\n",
    "print(expected)\n",
    "\n",
    "# Interpret the p-value\n",
    "alpha = 0.05\n",
    "if p_value < alpha:\n",
    "    print(\"Reject the null hypothesis: There is a significant association between groups and outcomes.\")\n",
    "else:\n",
    "    print(\"Fail to reject the null hypothesis: No significant association between groups and outcomes.\")\n"
   ]
  },
  {
   "cell_type": "code",
   "execution_count": null,
   "id": "e9c14d11-1def-41bf-ab38-35e6329d9d00",
   "metadata": {},
   "outputs": [],
   "source": [
    "Q4. A study of the prevalence of smoking in a population of 500 individuals found that 60 individuals\n",
    "smoked. Use Python to calculate the 95% confidence interval for the true proportion of individuals in the\n",
    "population who smoke.\n",
    "\n",
    "\n",
    "p= 60/500 =0.12\n",
    "z-value for 95% confidence =1.96\n",
    "CI=p+-z*sqrt(p(1-p)/n)= 0.12+-0.0284\n",
    "CI=(0.0916,0.1484)\n",
    " 95% confident that the true proportion of people who prefer\n",
    "Coke lies between 9.16% and 14.84%."
   ]
  },
  {
   "cell_type": "code",
   "execution_count": null,
   "id": "61dd7ef9-7923-4dc2-a275-f7467cd8176c",
   "metadata": {},
   "outputs": [],
   "source": [
    "Q5. Calculate the 90% confidence interval for a sample of data with a mean of 75 and a standard deviation\n",
    "of 12 using Python. Interpret the results."
   ]
  },
  {
   "cell_type": "code",
   "execution_count": 8,
   "id": "4ecfa832-8804-4dd5-a91d-4d050f318d6d",
   "metadata": {},
   "outputs": [
    {
     "name": "stdout",
     "output_type": "stream",
     "text": [
      "Sample Mean (x̄): 75\n",
      "Standard Error (SE): 2.1909\n",
      "Margin of Error (ME): 3.6037\n",
      "95% Confidence Interval: (71.3963, 78.6037)\n"
     ]
    }
   ],
   "source": [
    "import math\n",
    "from scipy.stats import norm\n",
    "\n",
    "# Given values\n",
    "mean = 75       # Sample mean\n",
    "std_dev = 12      # Sample standard deviation\n",
    "n = 30            # Sample size (assuming 30 for this example)\n",
    "Z = norm.ppf(0.95)  # Z-value for 90% confidence (two-tailed)\n",
    "\n",
    "# Calculate the standard error (SE)\n",
    "SE = std_dev / math.sqrt(n)\n",
    "\n",
    "# Calculate the margin of error (ME)\n",
    "ME = Z * SE\n",
    "\n",
    "# Calculate the confidence interval\n",
    "lower_bound = mean - ME\n",
    "upper_bound = mean + ME\n",
    "\n",
    "# Display the results\n",
    "print(f\"Sample Mean (x̄): {mean}\")\n",
    "print(f\"Standard Error (SE): {SE:.4f}\")\n",
    "print(f\"Margin of Error (ME): {ME:.4f}\")\n",
    "print(f\"95% Confidence Interval: ({lower_bound:.4f}, {upper_bound:.4f})\")\n"
   ]
  },
  {
   "cell_type": "code",
   "execution_count": 11,
   "id": "5121056f-2246-45d2-94dd-64dfecd61f47",
   "metadata": {},
   "outputs": [
    {
     "data": {
      "image/png": "[encoded data removed]",
      "text/plain": [
       "<Figure size 800x600 with 1 Axes>"
      ]
     },
     "metadata": {},
     "output_type": "display_data"
    }
   ],
   "source": [
    "# Q6. Use Python to plot the chi-square distribution with 10 degrees of freedom. Label the axes and shade the\n",
    "# area corresponding to a chi-square statistic of 15.\n",
    "import numpy as np\n",
    "import matplotlib.pyplot as plt\n",
    "from scipy.stats import chi2\n",
    "\n",
    "# Parameters\n",
    "df = 10  # degrees of freedom\n",
    "x = np.linspace(0, 30, 500)  # range of chi-square statistics\n",
    "y = chi2.pdf(x, df)  # chi-square PDF\n",
    "\n",
    "# Create the plot\n",
    "plt.figure(figsize=(8, 6))\n",
    "plt.plot(x, y, label=f'Chi-square Distribution (df={df})', color='blue')\n",
    "\n",
    "# Shade the area to the right of chi-square statistic 15\n",
    "x_fill = np.linspace(15, 30, 500)\n",
    "y_fill = chi2.pdf(x_fill, df)\n",
    "plt.fill_between(x_fill, y_fill, color='skyblue', alpha=0.5, label='Area for chi-square > 15')\n",
    "\n",
    "# Labels and title\n",
    "plt.title('Chi-Square Distribution with 10 Degrees of Freedom')\n",
    "plt.xlabel('Chi-Square Statistic')\n",
    "plt.ylabel('Probability Density')\n",
    "plt.legend(loc='upper right')\n",
    "\n",
    "# Display the plot\n",
    "plt.grid(True)\n",
    "plt.show()\n"
   ]
  },
  {
   "cell_type": "code",
   "execution_count": 13,
   "id": "1fbaf113-68ab-4a44-b634-69b0e1886bf8",
   "metadata": {},
   "outputs": [],
   "source": [
    "Q7. A random sample of 1000 people was asked if they preferred Coke or Pepsi. Of the sample, 520\n",
    "preferred Coke. Calculate a 99% confidence interval for the true proportion of people in the population who\n",
    "prefer Coke.\n",
    "\n",
    "p= 520/1000 =0.52\n",
    "z-value for 99% confidence =2.576\n",
    "CI=p+-z*sqrt(p(1-p)/n)= 0.52+-0.0405\n",
    "CI=(0.4795, 0.5605)\n",
    " 99% confident that the true proportion of people who prefer\n",
    "Coke lies between 47.95% and 56.05%"
   ]
  },
  {
   "cell_type": "code",
   "execution_count": 16,
   "id": "e912d3a8-9676-4acf-874e-6e462b40a099",
   "metadata": {},
   "outputs": [
    {
     "name": "stdout",
     "output_type": "stream",
     "text": [
      "accept the null hyp. observed frequency matched with expected frequency\n"
     ]
    }
   ],
   "source": [
    "# Q8 A researcher hypothesizes that a coin is biased towards tails. They flip the coin 100 times and observe\n",
    "# 45 tails. Conduct a chi-square goodness of fit test to determine if the observed frequencies match the\n",
    "# expected frequencies of a fair coin. Use a significance level of 0.05.\n",
    "\n",
    "import scipy.stats as stat\n",
    "import numpy as np\n",
    "from scipy.stats import chisquare\n",
    "\n",
    "observed = np.array([45,55])  # blue, orange, green, yellow, red, brown\n",
    "expected_proportions = np.array([50,50])\n",
    "total_observed = np.sum(observed)\n",
    "chi,p=stat.chisquare(observed,expected_proportions)\n",
    "# critical value\n",
    "alpha=0.05\n",
    "dof=len(observed)-1\n",
    "critical_value=stat.chi2.ppf(1-alpha,dof)\n",
    "critical_value\n",
    "if critical_value<chi:\n",
    "    print(\"reject the null hyp observed frequency do not  matched with expected frequency \" )\n",
    "else:\n",
    "    print(\"accept the null hyp. observed frequency matched with expected frequency\")\n"
   ]
  },
  {
   "cell_type": "code",
   "execution_count": null,
   "id": "eb0fc8c2-0f71-46d7-8d66-9e8387f4bd79",
   "metadata": {},
   "outputs": [],
   "source": [
    "Q9. A study was conducted to determine if there is an association between smoking status (smoker or\n",
    "non-smoker) and lung cancer diagnosis (yes or no). The results are shown in the contingency table below.\n",
    "Conduct a chi-square test for independence to determine if there is a significant association between\n",
    "smoking status and lung cancer diagnosis.Use a significance level of 0.05."
   ]
  },
  {
   "cell_type": "code",
   "execution_count": 19,
   "id": "9b1e3ccd-c272-4af2-af07-904b63323a58",
   "metadata": {},
   "outputs": [
    {
     "name": "stdout",
     "output_type": "stream",
     "text": [
      "Chi-square Statistic: 12.06\n",
      "P-value: 0.0005\n",
      "Degrees of Freedom: 1\n",
      "Expected Frequencies:\n",
      "[[ 45. 155.]\n",
      " [ 45. 155.]]\n",
      "Reject the null hypothesis: There is a significant association between smoking status  and lung cancer .\n"
     ]
    }
   ],
   "source": [
    "import numpy as np\n",
    "from scipy.stats import chi2_contingency\n",
    "\n",
    "# Define the contingency table\n",
    "data = np.array([[60, 140],  # Outcome 1\n",
    "                 [30, 170]])  # Outcome 2\n",
    "\n",
    "# Perform the chi-square test\n",
    "chi2_stat, p_value, dof, expected = chi2_contingency(data)\n",
    "\n",
    "# Print results\n",
    "print(f\"Chi-square Statistic: {chi2_stat:.2f}\")\n",
    "print(f\"P-value: {p_value:.4f}\")\n",
    "print(f\"Degrees of Freedom: {dof}\")\n",
    "print(\"Expected Frequencies:\")\n",
    "print(expected)\n",
    "\n",
    "# Interpret the p-value\n",
    "alpha = 0.05\n",
    "if p_value < alpha:\n",
    "    print(\"Reject the null hypothesis: There is a significant association between smoking status  and lung cancer .\")\n",
    "else:\n",
    "    print(\"Fail to reject the null hypothesis: No significant association between smoking status  and lung cancer.\")\n"
   ]
  },
  {
   "cell_type": "code",
   "execution_count": null,
   "id": "4bc72bf5-720f-4ae0-932c-2b4df78d6e76",
   "metadata": {},
   "outputs": [],
   "source": [
    "Q10. A study was conducted to determine if the proportion of people who prefer milk chocolate, dark\n",
    "chocolate, or white chocolate is different in the U.S. versus the U.K. A random sample of 500 people from\n",
    "the U.S. and a random sample of 500 people from the U.K. were surveyed. The results are shown in the\n",
    "contingency table below. Conduct a chi-square test for independence to determine if there is a significant\n",
    "association between chocolate preference and country of origin."
   ]
  },
  {
   "cell_type": "code",
   "execution_count": 26,
   "id": "476ee7e7-82ee-4d4d-8eef-33aecb77a2ba",
   "metadata": {},
   "outputs": [
    {
     "name": "stdout",
     "output_type": "stream",
     "text": [
      "Chi-square Statistic: 13.39\n",
      "P-value: 0.0012\n",
      "Degrees of Freedom: 2\n",
      "Expected Frequencies:\n",
      "[[212.5 162.5 125. ]\n",
      " [212.5 162.5 125. ]]\n",
      "Reject the null hypothesis: there is a significant association between chocolate preference and country of origin. .\n"
     ]
    }
   ],
   "source": [
    "import numpy as np\n",
    "from scipy.stats import chi2_contingency\n",
    "\n",
    "# Define the contingency table\n",
    "data = np.array([[200,150,150],  \n",
    "                 [225,175,100]])  \n",
    "\n",
    "# Perform the chi-square test\n",
    "chi2_stat, p_value, dof, expected = chi2_contingency(data)\n",
    "\n",
    "# Print results\n",
    "print(f\"Chi-square Statistic: {chi2_stat:.2f}\")\n",
    "print(f\"P-value: {p_value:.4f}\")\n",
    "print(f\"Degrees of Freedom: {dof}\")\n",
    "print(\"Expected Frequencies:\")\n",
    "print(expected)\n",
    "\n",
    "# Interpret the p-value\n",
    "alpha = 0.01\n",
    "if p_value < alpha:\n",
    "    print(\"Reject the null hypothesis: there is a significant association between chocolate preference and country of origin. .\")\n",
    "else:\n",
    "    print(\"Fail to reject the null hypothesis: No there is a significant association between chocolate preference and country of origin.\")\n"
   ]
  },
  {
   "cell_type": "code",
   "execution_count": null,
   "id": "0d0f784e-5ccc-43a5-8824-90699c02b6e5",
   "metadata": {},
   "outputs": [],
   "source": [
    "Q11. A random sample of 30 people was selected from a population with an unknown mean and standard\n",
    "deviation. The sample mean was found to be 72 and the sample standard deviation was found to be 10.\n",
    "Conduct a hypothesis test to determine if the population mean is significantly different from 70. Use a\n",
    "significance level of 0.05.\n",
    "\n",
    "null hypo. Ho  the population mean =70 \n",
    "alternate H1  the population mean is significantly different from 70\n",
    "population mean =70\n",
    "let n=30\n",
    "t stats=(72-70)/(10/sqrt(30))=1.0954\n",
    "t_table=2.0452\n",
    "t_table>t stats\n",
    "Ho is acepted ther is no significance difference"
   ]
  }
 ],
 "metadata": {
  "kernelspec": {
   "display_name": "Python 3 (ipykernel)",
   "language": "python",
   "name": "python3"
  },
  "language_info": {
   "codemirror_mode": {
    "name": "ipython",
    "version": 3
   },
   "file_extension": ".py",
   "mimetype": "text/x-python",
   "name": "python",
   "nbconvert_exporter": "python",
   "pygments_lexer": "ipython3",
   "version": "3.11.4"
  }
 },
 "nbformat": 4,
 "nbformat_minor": 5
}

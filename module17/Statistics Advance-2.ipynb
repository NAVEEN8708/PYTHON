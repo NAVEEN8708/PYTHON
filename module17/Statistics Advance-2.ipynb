{
 "cells": [
  {
   "cell_type": "code",
   "execution_count": null,
   "id": "220a9290-2d92-4a72-aed2-e27b1f173298",
   "metadata": {},
   "outputs": [],
   "source": [
    "Q1: What are the Probability Mass Function (PMF) and Probability Density Function (PDF)? Explain with\n",
    "an example.\n",
    "PMF (Probability Mass Function) is used to describe the probability distribution of a discrete random variable. \n",
    "It gives the probability that a discrete random variable is exactly equal to some value.\n",
    "If you roll a fair six-sided die, the PMF gives the probability of rolling each number.\n",
    "The probability of rolling a 3 is 1/6\n",
    "\n",
    "PDF (Probability Density Function) is used for continuous random variables.\n",
    "It describes the relative likelihood of a random variable taking on a given value.\n",
    "The area under the curve of the PDF represents the probability that the variable falls within a given range\n",
    "Example For a continuous random variable like the height of individuals in a population,\n"
   ]
  },
  {
   "cell_type": "code",
   "execution_count": null,
   "id": "62f466a7-426c-49a2-8331-eef93c031dd3",
   "metadata": {},
   "outputs": [],
   "source": [
    "Q2: What is Cumulative Density Function (CDF)? Explain with an example. Why CDF is used?\n",
    "\n",
    "CDF (Cumulative Distribution Function) is the probability that a random variable 𝑋\n",
    "X takes on a value less than or equal to x.It is the integral of the PDF for continuous distributions\n",
    "or the sum of the PMF for discrete distributions.\n",
    "\n",
    "Example: If you have a dataset of exam scores, the CDF at a score of 70 would give the \n",
    "probability that a randomly selected student scored less than or equal to 70\n",
    "\n",
    "it is used for hypothesis testing and percentile calculation. \n",
    "                     "
   ]
  },
  {
   "cell_type": "code",
   "execution_count": null,
   "id": "fd23c164-ae68-4aca-a30e-7aac7fb06ce1",
   "metadata": {},
   "outputs": [],
   "source": [
    "Q3: What are some examples of situations where the normal distribution might be used as a model?\n",
    "Explain how the parameters of the normal distribution relate to the shape of the distribution.\n",
    "\n",
    "Examples:\n",
    "\n",
    "The heights of individuals in a population\n",
    "IQ scores in the populations \n",
    "scores of students in competitive exam \n",
    "\n",
    "Mean (mu): The center of the distribution; it is where the peak occurs.\n",
    "Standard Deviation (sigma ): A larger standard deviation means the distribution is wider, \n",
    "while a smaller standard deviation means it is narrower.\n",
    " \n",
    " "
   ]
  },
  {
   "cell_type": "code",
   "execution_count": null,
   "id": "e79cc251-39e4-458b-a516-bce4fe289386",
   "metadata": {},
   "outputs": [],
   "source": [
    "Q4: Explain the importance of Normal Distribution. Give a few real-life examples of Normal\n",
    "Distribution.\n",
    "\n",
    "Normal Distribution is import because most of the \n",
    "real world phenomenon follow normal distribution \n",
    "Examples:\n",
    "eg.\n",
    "The heights of individuals in a population\n",
    "IQ scores in the populations \n",
    "scores of students in competitive exam "
   ]
  },
  {
   "cell_type": "code",
   "execution_count": null,
   "id": "6fc2ac15-699d-4160-a8ca-ee01148ffbbb",
   "metadata": {},
   "outputs": [],
   "source": [
    "Q5: What is Bernaulli Distribution? Give an Example. What is the difference between Bernoulli\n",
    "Distribution and Binomial Distribution?\n",
    "\n",
    "Bernoulli Distribution: A distribution of a random variable that has only two outcomes, typically coded as 0 and 1,\n",
    "representing failure and success, respectively\n",
    "\n",
    "Example: Flipping a coin, where the outcomes can be heads (1) or tails (0).\n",
    "Difference between Bernoulli and Binomial Distribution:\n",
    "A Binomial distribution models the number of successes in a fixed number of Bernoulli trials.\n",
    "\n",
    "\n",
    "\n",
    "\n",
    "\n"
   ]
  },
  {
   "cell_type": "code",
   "execution_count": null,
   "id": "c486b050-8253-40d9-8ab1-acb64500d247",
   "metadata": {},
   "outputs": [],
   "source": [
    "Q6. Consider a dataset with a mean of 50 and a standard deviation of 10. If we assume that the dataset\n",
    "is normally distributed, what is the probability that a randomly selected observation will be greater\n",
    "than 60? Use the appropriate formula and show your calculations.\n",
    "\n",
    "Z=(X-mu)/sigma =(60-50)/10  =1\n",
    "Z=1 table value is 0.1587\n",
    "\n",
    "\n",
    "\n",
    "\n"
   ]
  },
  {
   "cell_type": "code",
   "execution_count": null,
   "id": "23b84c8c-c0c9-4a70-9679-69aafc64a353",
   "metadata": {},
   "outputs": [],
   "source": [
    "Q7: Explain uniform Distribution with an example.\n",
    "\n",
    "Uniform Distribution: A distribution where all outcomes are equally likely within a specified range.\n",
    "\n",
    "Example: Rolling a fair 6-sided die. The probability of each side (1 to 6) is the same, that is 1/6\n",
    "​Thus, the distribution is uniform"
   ]
  },
  {
   "cell_type": "code",
   "execution_count": null,
   "id": "1553392b-7969-41ff-b93c-03872083b9d0",
   "metadata": {},
   "outputs": [],
   "source": [
    "Q8: What is the z score? State the importance of the z score.\n",
    "\n",
    "z-score: A measure of how many standard deviations an individual data point is from the mean. \n",
    "The formula is:\n",
    "\n",
    "Z=(X-mu)/sigma\n",
    "\n",
    "\n",
    "Importance: The z-score standardizes data, allowing comparison across different datasets with different means and standard deviations. It also helps to identify outliers and assess probabilities using the standard normal distribution.\n"
   ]
  },
  {
   "cell_type": "code",
   "execution_count": null,
   "id": "199718b6-249a-4768-94a2-8f5cf21faaf1",
   "metadata": {},
   "outputs": [],
   "source": [
    "Q9: What is Central Limit Theorem? State the significance of the Central Limit Theorem.\n",
    "\n",
    "central limit theoram \n",
    "sample dist of mean is normally distributed  regard less of population is and  whatever is the \n",
    "so distribution ,as long as sample size should be large \n",
    "The CLT allows us to make inferences about the population like its normally distributed or not, "
   ]
  },
  {
   "cell_type": "code",
   "execution_count": null,
   "id": "c87df20b-bca5-4ed6-9b22-adca92e99799",
   "metadata": {},
   "outputs": [],
   "source": [
    "Q10: State the assumptions of the Central Limit Theorem.\n",
    "\n",
    "    The sample observations are independent.\n",
    "The sample size is sufficiently large (n>30).\n",
    "The data should be drawn from a population with a finite mean and variance."
   ]
  }
 ],
 "metadata": {
  "kernelspec": {
   "display_name": "Python 3 (ipykernel)",
   "language": "python",
   "name": "python3"
  },
  "language_info": {
   "codemirror_mode": {
    "name": "ipython",
    "version": 3
   },
   "file_extension": ".py",
   "mimetype": "text/x-python",
   "name": "python",
   "nbconvert_exporter": "python",
   "pygments_lexer": "ipython3",
   "version": "3.11.4"
  }
 },
 "nbformat": 4,
 "nbformat_minor": 5
}

{
 "cells": [
  {
   "cell_type": "code",
   "execution_count": 2,
   "id": "e8e4f19a-4cbe-43f3-8904-ac54c11bb8eb",
   "metadata": {},
   "outputs": [],
   "source": [
    "# Q1. What are the three measures of central tendency?\n",
    "# mean mode median "
   ]
  },
  {
   "cell_type": "code",
   "execution_count": null,
   "id": "adcf5305-be0a-4c3e-95bf-3ffdc949916f",
   "metadata": {},
   "outputs": [],
   "source": [
    "# Q2. What is the difference between the mean, median, and mode? How are they used to measure the\n",
    "# central tendency of a dataset?\n",
    "# mean calculates the average of our data, median finds the  mid value in our data and mode finds the \n",
    "# most occurring  data in our sample "
   ]
  },
  {
   "cell_type": "code",
   "execution_count": 12,
   "id": "32fe961f-92bc-4d77-a5cc-58ca8bee2b8a",
   "metadata": {},
   "outputs": [],
   "source": [
    "# Q3. Measure the three measures of central tendency for the given height data:\n",
    "import numpy as np \n",
    "from scipy import stats\n",
    "data=[178,177,176,177,178.2,178,175,179,180,175,178.9,176.2,177,172.5,178,176.5]"
   ]
  },
  {
   "cell_type": "code",
   "execution_count": 13,
   "id": "0e7b1eb0-4925-4b0b-bb58-9905d5d88728",
   "metadata": {},
   "outputs": [
    {
     "data": {
      "text/plain": [
       "177.01875"
      ]
     },
     "execution_count": 13,
     "metadata": {},
     "output_type": "execute_result"
    }
   ],
   "source": [
    "np.mean(data)"
   ]
  },
  {
   "cell_type": "code",
   "execution_count": 14,
   "id": "76d943d4-d40b-467a-aea6-37b42754ac1e",
   "metadata": {},
   "outputs": [
    {
     "data": {
      "text/plain": [
       "ModeResult(mode=177.0, count=3)"
      ]
     },
     "execution_count": 14,
     "metadata": {},
     "output_type": "execute_result"
    }
   ],
   "source": [
    "stats.mode(data)"
   ]
  },
  {
   "cell_type": "code",
   "execution_count": 15,
   "id": "1b4f612d-c035-4dee-98c3-e2413e754d5d",
   "metadata": {},
   "outputs": [
    {
     "data": {
      "text/plain": [
       "177.0"
      ]
     },
     "execution_count": 15,
     "metadata": {},
     "output_type": "execute_result"
    }
   ],
   "source": [
    "np.median(data)"
   ]
  },
  {
   "cell_type": "code",
   "execution_count": null,
   "id": "6a1020a7-3234-4225-a5aa-6e049c88a917",
   "metadata": {},
   "outputs": [],
   "source": [
    "# Find the standard deviation for the given data:\n",
    "data=[178,177,176,177,178.2,178,175,179,180,175,178.9,176.2,177,172.5,178,176.5]"
   ]
  },
  {
   "cell_type": "code",
   "execution_count": 16,
   "id": "9b1ee5fd-c0e3-44e0-ac0c-4c177bac223a",
   "metadata": {},
   "outputs": [
    {
     "data": {
      "text/plain": [
       "1.7885814036548633"
      ]
     },
     "execution_count": 16,
     "metadata": {},
     "output_type": "execute_result"
    }
   ],
   "source": [
    "np.std(data)"
   ]
  },
  {
   "cell_type": "code",
   "execution_count": 22,
   "id": "d5591577-884a-4dac-b4d0-d4d17e42c7fe",
   "metadata": {},
   "outputs": [
    {
     "name": "stdout",
     "output_type": "stream",
     "text": [
      "3.199023437500001\n"
     ]
    },
    {
     "data": {
      "text/plain": [
       "1.7885814036548633"
      ]
     },
     "execution_count": 22,
     "metadata": {},
     "output_type": "execute_result"
    }
   ],
   "source": [
    "# Q5. How are measures of dispersion such as range, variance, and standard deviation used to describe\n",
    "# the spread of a dataset? Provide an example.\n",
    "# The range is the difference between the maximum and minimum values in the dataset.\n",
    "# t provides a simple measure of the total spread of the data.\n",
    "# example:-\n",
    "# [3,7,8,10,15] range=15-3=12\n",
    "# Variance is the average of the squared differences between each data point and the mean of the dataset.\n",
    "# It quantifies the spread of all data points relative to the mean\n",
    "# example \n",
    "print(np.var(data))\n",
    "# Standard deviation is the square root of variance. It provides a measure of spread in the same units as the data.\n",
    "# example \n",
    "np.std(data)"
   ]
  },
  {
   "cell_type": "code",
   "execution_count": null,
   "id": "784f28f7-5522-4d61-8d53-b9bc0f814d70",
   "metadata": {},
   "outputs": [],
   "source": [
    "# What is a Venn diagram?\n",
    "# A Venn diagram is a pictorial representation used to describe the relationships between different sets. \n",
    "# It consists of overlapping circles, where every circle represents a set, \n",
    "# # and the overlapped regions represent the common elements between sets."
   ]
  },
  {
   "cell_type": "code",
   "execution_count": 23,
   "id": "6ad9fb5f-b768-4baf-af7d-a443535eb1ac",
   "metadata": {},
   "outputs": [],
   "source": [
    "# Q7. For the two given sets A = (2,3,4,5,6,7) & B = (0,2,6,8,10). Find:\n",
    "# (i) A intersection B\n",
    "# (ii) A ⋃ B\n",
    "# i){2,6}\n",
    "# ii){0,2,3,4,5,6,7,8,10}"
   ]
  },
  {
   "cell_type": "code",
   "execution_count": null,
   "id": "f85c700a-edd9-403b-a881-fc3b7fff4bc3",
   "metadata": {},
   "outputs": [],
   "source": [
    "# What do you understand about skewness in data?\n",
    "# Skewness is the measure of how asymmetrical the data distribution of values is. \n",
    "# It means whether the data values have been spread out equally or \n",
    "# if they are on a higher scale for one side of the data set rather than the other. \n",
    "# The skewness of the data determines its shape and orientation."
   ]
  },
  {
   "cell_type": "code",
   "execution_count": null,
   "id": "cfe177f0-a659-4de2-b83e-692b3d2b4fdc",
   "metadata": {},
   "outputs": [],
   "source": [
    "# Q9. If a data is right skewed then what will be the position of median with respect to mean?\n",
    "# median will be less than the mean"
   ]
  },
  {
   "cell_type": "code",
   "execution_count": null,
   "id": "81cf6fac-a725-42a1-95e1-972f3a3d770d",
   "metadata": {},
   "outputs": [],
   "source": [
    "# Q10. Explain the difference between covariance and correlation. How are these measures used in\n",
    "# statistical analysis?\n",
    "# Both covariance and correlation are measures that describe the relationship between two variables,\n",
    "Covariance measures the degree to which two variables are related.\n",
    "Cov(X,Y)= ∑(xi−xˉ)(yi−yˉ)/(n-1)\n",
    "​\n",
    "Correlation standardizes covariance to measure the strength and \n",
    "direction of the relationship between two variables on a scale of -1 to 1\n",
    "  Correlation(r)= Cov(X,Y)/(σX​ ⋅σY​) \n",
    "​\n",
    " \n",
    "  "
   ]
  },
  {
   "cell_type": "code",
   "execution_count": 25,
   "id": "1379f1c1-f132-4765-940c-33aa18511c30",
   "metadata": {},
   "outputs": [
    {
     "data": {
      "text/plain": [
       "3.0"
      ]
     },
     "execution_count": 25,
     "metadata": {},
     "output_type": "execute_result"
    }
   ],
   "source": [
    "# Q11. What is the formula for calculating the sample mean? Provide an example calculation for a\n",
    "# dataset.\n",
    "# mean=∑(xi)/n\n",
    "d=[1,2,3,4,5]\n",
    "np.mean(d)"
   ]
  },
  {
   "cell_type": "code",
   "execution_count": null,
   "id": "e8278239-3d1b-483c-984b-e27e4ddafb54",
   "metadata": {},
   "outputs": [],
   "source": [
    "# Q12. For a normal distribution data what is the relationship between its measure of central tendency?\n",
    "# mean=median=mode"
   ]
  },
  {
   "cell_type": "code",
   "execution_count": null,
   "id": "224ab650-48e8-4fe2-b4ff-98192c4edca9",
   "metadata": {},
   "outputs": [],
   "source": [
    "Q13. How is covariance different from correlation?\n",
    " covariance can any value from -inf to + inf\n",
    "correlation lies between -1 to  1"
   ]
  },
  {
   "cell_type": "code",
   "execution_count": null,
   "id": "d75452af-0f43-4ec8-87cd-4bdcedcd798c",
   "metadata": {},
   "outputs": [],
   "source": [
    "# Q14.How do outliers affect measures of central tendency and dispersion? Provide an example.\n",
    "# median is not affected by outlier mean affect the most example given below"
   ]
  },
  {
   "cell_type": "code",
   "execution_count": 29,
   "id": "9d8327e9-c4b5-40d4-8e00-80099ce33803",
   "metadata": {},
   "outputs": [
    {
     "name": "stdout",
     "output_type": "stream",
     "text": [
      "3.0\n"
     ]
    },
    {
     "data": {
      "text/plain": [
       "85.83333333333333"
      ]
     },
     "execution_count": 29,
     "metadata": {},
     "output_type": "execute_result"
    }
   ],
   "source": [
    "d1=[1,2,3,4,5]\n",
    "d=[1,2,3,4,5,500]\n",
    "print(np.mean(d1))\n",
    "np.mean(d)\n"
   ]
  },
  {
   "cell_type": "code",
   "execution_count": 30,
   "id": "1ca64434-9163-485c-a790-55df72987289",
   "metadata": {},
   "outputs": [
    {
     "name": "stdout",
     "output_type": "stream",
     "text": [
      "3.0\n"
     ]
    },
    {
     "data": {
      "text/plain": [
       "3.5"
      ]
     },
     "execution_count": 30,
     "metadata": {},
     "output_type": "execute_result"
    }
   ],
   "source": [
    "print(np.median(d1))\n",
    "np.median(d)"
   ]
  },
  {
   "cell_type": "code",
   "execution_count": null,
   "id": "8ffd676c-2bf1-43aa-9a6c-0e95117defba",
   "metadata": {},
   "outputs": [],
   "source": []
  }
 ],
 "metadata": {
  "kernelspec": {
   "display_name": "Python 3 (ipykernel)",
   "language": "python",
   "name": "python3"
  },
  "language_info": {
   "codemirror_mode": {
    "name": "ipython",
    "version": 3
   },
   "file_extension": ".py",
   "mimetype": "text/x-python",
   "name": "python",
   "nbconvert_exporter": "python",
   "pygments_lexer": "ipython3",
   "version": "3.11.4"
  }
 },
 "nbformat": 4,
 "nbformat_minor": 5
}

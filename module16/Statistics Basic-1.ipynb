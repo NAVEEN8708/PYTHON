{
 "cells": [
  {
   "cell_type": "code",
   "execution_count": null,
   "id": "19d8b9f2-cd4d-4926-90bb-12a4ffe6b782",
   "metadata": {},
   "outputs": [],
   "source": [
    "Q1. What is Statistics?\n",
    "statistics is the science of collecting organising and analysing data"
   ]
  },
  {
   "cell_type": "code",
   "execution_count": null,
   "id": "7ffc9f75-80ee-452e-9c4b-6bd891ef2a98",
   "metadata": {},
   "outputs": [],
   "source": [
    "# Q2. Define the different types of statistics and give an example of when each type might be used.\n",
    "\n",
    "# Statistics can be broadly classified into two main types: Descriptive Statistics and Inferential Statistics\n",
    "# Descriptive Statistics example\n",
    "# A teacher wants to summarize the performance of students in an exam  then he calculate mean mode median\n",
    "# Inferential Statistics example\n",
    "# A pharmaceutical company tests a new drug on a sample of patients to determine its effectiveness for the general population."
   ]
  },
  {
   "cell_type": "code",
   "execution_count": null,
   "id": "f6e752f9-3b8c-475f-b8f3-2018326d8997",
   "metadata": {},
   "outputs": [],
   "source": [
    "What are the different types of data and how do they differ from each other? Provide an example of\n",
    "each type of data."
   ]
  },
  {
   "cell_type": "code",
   "execution_count": null,
   "id": "8f1579bc-c12e-4c87-81b0-c28b3488009b",
   "metadata": {},
   "outputs": [],
   "source": [
    "data \n",
    "    1)quantitative (Numerical variable)\n",
    "            i)discrete(whole no)\n",
    "            ii)continuous(can decimal also)\n",
    "    2)qualitative(categorical data )\n",
    "            "
   ]
  },
  {
   "cell_type": "code",
   "execution_count": null,
   "id": "35e748ec-127b-4997-ad08-65cbca1cd59e",
   "metadata": {},
   "outputs": [],
   "source": [
    "Q4. Categorise the following datasets with respect to quantitative and qualitative data types:\n",
    "(i) Grading in exam: A+, A, B+, B, C+, C, D, E\n",
    "(ii) Colour of mangoes: yellow, green, orange, red\n",
    "(iii) Height data of a class: [178.9, 179, 179.5, 176, 177.2, 178.3, 175.8,...]\n",
    "(iv) Number of mangoes exported by a farm: [500, 600, 478, 672, ...]"
   ]
  },
  {
   "cell_type": "code",
   "execution_count": null,
   "id": "aa3579eb-2729-4d96-aec5-39dc354c00c1",
   "metadata": {},
   "outputs": [],
   "source": [
    "i)qualitative\n",
    "ii)qualitative\n",
    "iii)quantitative\n",
    "iv)quantitative"
   ]
  },
  {
   "cell_type": "code",
   "execution_count": null,
   "id": "16c8830c-0927-46f2-95d7-3521478e886c",
   "metadata": {},
   "outputs": [],
   "source": [
    "Q5. Explain the concept of levels of measurement and give an example of a variable for each level."
   ]
  },
  {
   "cell_type": "code",
   "execution_count": 2,
   "id": "a1f1b6e5-0279-4654-9115-1dc583458d54",
   "metadata": {},
   "outputs": [],
   "source": [
    "            # i)nominal(no rank like gender male,female, blood group )\n",
    "            # ii)ordinal(ranked there is rank like good better best )\n",
    "            # iii)ratio scale :- order matter,,differences can measure(including ratio), zero starting point\n",
    "            #        example(Measuring body weight)\n",
    "            # iv)interval:-order matter,,differences can measure(excluding ratio), zero starting point \n",
    "            #         example(Measuring daily temperature variations.)"
   ]
  },
  {
   "cell_type": "code",
   "execution_count": null,
   "id": "567cbb55-be39-482c-9bf7-0ee4f88fc719",
   "metadata": {},
   "outputs": [],
   "source": [
    "# Why is it important to understand the level of measurement when analyzing data? Provide an\n",
    "# example to illustrate your answer.\n",
    "It is crucial to understand the level of measurement because \n",
    "this determines what statistical techniques are applicable and the meaningful interpretations\n",
    "that can be drawn from data.\n",
    "Use of inappropriate methods for a given level of measurement leads to misleading results or invalid conclusions.\n"
   ]
  },
  {
   "cell_type": "code",
   "execution_count": null,
   "id": "167109c2-8c9a-4c93-baf0-b12e7d51f0b2",
   "metadata": {},
   "outputs": [],
   "source": [
    "Q7. How nominal data type is different from ordinal data type.\n",
    "            # i)nominal(no rank like gender male,female, blood group )\n",
    "            # ii)ordinal(ranked, there is rank like good better best )"
   ]
  },
  {
   "cell_type": "code",
   "execution_count": null,
   "id": "7643631e-4305-4dd5-ae59-da2bd349556d",
   "metadata": {},
   "outputs": [],
   "source": [
    "Q8. Which type of plot can be used to display data in terms of range?\n",
    "Histogram"
   ]
  },
  {
   "cell_type": "code",
   "execution_count": null,
   "id": "d19d779b-ed6b-42da-bde8-19d63e5955c6",
   "metadata": {},
   "outputs": [],
   "source": [
    "Q9. Describe the difference between descriptive and inferential statistics. Give an example of each\n",
    "type of statistics and explain how they are used.\n",
    "    \n",
    "statistics is the science of collecting organising and analysing data \n",
    "data is fact or pieces of infomation \n",
    "heights of students in class \n",
    "types of statistics\n",
    "\n",
    "1)descriptive:- it consists of organizing data and summarising it \n",
    "measure central tendency(mean mode median )\n",
    "measure of dispersion(variance ,std)\n",
    "type of dist. of data (histogram,pdf,pmf)\n",
    "\n",
    "2)inferential :-it consists of using data you have measured to from a conclusion, sample data se population data ke bare me conclution nikalna \n",
    "Z test\n",
    "t test {hypothtisis testing HO,H1,p value ,significance value}\n",
    "chi square test"
   ]
  },
  {
   "cell_type": "code",
   "execution_count": null,
   "id": "8bb6ad64-d5cf-406d-b47a-5c5752969709",
   "metadata": {},
   "outputs": [],
   "source": [
    "Q10. What are some common measures of central tendency and variability used in statistics? Explain\n",
    "how each measure can be used to describe a dataset.\n",
    "mean is  sum of all data points divided by the number of data points.\n",
    "mode is most frequently occurring value(s) in the dataset.\n",
    "median is  middle value when data are ordered\n",
    "Variability measures the spread or dispersion of data points. "
   ]
  },
  {
   "cell_type": "code",
   "execution_count": null,
   "id": "21fab296-a81a-48d4-bf0a-cb1165d8377a",
   "metadata": {},
   "outputs": [],
   "source": []
  },
  {
   "cell_type": "code",
   "execution_count": null,
   "id": "3bfc7d87-1148-4a9a-9f0c-958773cf21e4",
   "metadata": {},
   "outputs": [],
   "source": []
  },
  {
   "cell_type": "code",
   "execution_count": null,
   "id": "6aa3f056-0bda-4302-a14a-ac3211ecdd7d",
   "metadata": {},
   "outputs": [],
   "source": []
  }
 ],
 "metadata": {
  "kernelspec": {
   "display_name": "Python 3 (ipykernel)",
   "language": "python",
   "name": "python3"
  },
  "language_info": {
   "codemirror_mode": {
    "name": "ipython",
    "version": 3
   },
   "file_extension": ".py",
   "mimetype": "text/x-python",
   "name": "python",
   "nbconvert_exporter": "python",
   "pygments_lexer": "ipython3",
   "version": "3.11.4"
  }
 },
 "nbformat": 4,
 "nbformat_minor": 5
}

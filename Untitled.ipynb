{
 "cells": [
  {
   "cell_type": "code",
   "execution_count": 13,
   "id": "54f30807",
   "metadata": {},
   "outputs": [
    {
     "data": {
      "text/plain": [
       "[1, 3, 5, 7, 9, 11, 13, 15, 17, 19, 21, 23, 25]"
      ]
     },
     "execution_count": 13,
     "metadata": {},
     "output_type": "execute_result"
    }
   ],
   "source": [
    "#question1\n",
    "# def  keyword is used to create a function \n",
    "def odd(n):\n",
    "    o=[]\n",
    "    for i in range(n+1):\n",
    "        if i%2 !=0:\n",
    "            o.append(i)\n",
    "    return(o)\n",
    "odd(25)"
   ]
  },
  {
   "cell_type": "code",
   "execution_count": 28,
   "id": "15522a90",
   "metadata": {},
   "outputs": [
    {
     "data": {
      "text/plain": [
       "{'a': {13, 31}, 'b': [1, 2, 34], 'c': 'abc'}"
      ]
     },
     "execution_count": 28,
     "metadata": {},
     "output_type": "execute_result"
    }
   ],
   "source": [
    "#question2\n",
    "#arg and kwargs is used to when we want to pass n number of inputs to function and return tuple for args keyword and return dictionary for kwargs keyword\n",
    "def a(*args):\n",
    "    return(args)\n",
    "def b(**kwargs):\n",
    "    return(kwargs)\n",
    "a({13,31,13},[1,2,34],\"abc\")"
   ]
  },
  {
   "cell_type": "code",
   "execution_count": 29,
   "id": "a627c2a5",
   "metadata": {},
   "outputs": [
    {
     "data": {
      "text/plain": [
       "{'a': {13, 31}, 'b': [1, 2, 34], 'c': 'abc'}"
      ]
     },
     "execution_count": 29,
     "metadata": {},
     "output_type": "execute_result"
    }
   ],
   "source": [
    "b(a={13,31,13},b=[1,2,34],c=\"abc\")"
   ]
  },
  {
   "cell_type": "code",
   "execution_count": 40,
   "id": "0bcb1ea4",
   "metadata": {},
   "outputs": [
    {
     "name": "stdout",
     "output_type": "stream",
     "text": [
      "2\n",
      "4\n",
      "6\n",
      "8\n",
      "10\n"
     ]
    }
   ],
   "source": [
    "# # # question3\n",
    "# # iterator is something in which we use next() function to extract data\n",
    "# # iterable is data which can be converted to iterator by using iter() function\n",
    "# first convert it into iterator then use next function\n",
    "l=[2,4,6,8,10,12,14,16,18,20]\n",
    "l=iter(l)\n",
    "print(next(l))\n",
    "print(next(l))\n",
    "print(next(l))\n",
    "print(next(l))\n",
    "print(next(l))"
   ]
  },
  {
   "cell_type": "code",
   "execution_count": 41,
   "id": "2e5344c9",
   "metadata": {},
   "outputs": [
    {
     "name": "stdout",
     "output_type": "stream",
     "text": [
      "0\n",
      "1\n",
      "2\n",
      "3\n",
      "4\n",
      "5\n",
      "6\n",
      "7\n",
      "8\n",
      "9\n",
      "10\n"
     ]
    }
   ],
   "source": [
    "# # # question4\n",
    "# generator function is a type of function which generate the data and give output simultaneously\n",
    "# yield key is used for that\n",
    "def t(n):\n",
    "    a=0\n",
    "    while a<=n :\n",
    "        yield(a)\n",
    "        a=a+1\n",
    "for i in t(10):\n",
    "    print(i)        \n",
    "        "
   ]
  },
  {
   "cell_type": "code",
   "execution_count": 123,
   "id": "adde39cd",
   "metadata": {},
   "outputs": [
    {
     "name": "stdout",
     "output_type": "stream",
     "text": [
      "2\n",
      "3\n",
      "5\n",
      "7\n",
      "11\n",
      "13\n",
      "17\n",
      "19\n",
      "23\n",
      "29\n",
      "31\n",
      "37\n",
      "41\n",
      "43\n",
      "47\n",
      "53\n",
      "59\n",
      "61\n",
      "67\n",
      "71\n"
     ]
    }
   ],
   "source": [
    "# # # question5\n",
    "def prime(n):\n",
    "    for a in range(2,n+1):  \n",
    "        k=0  \n",
    "        for i in range(2,a):  \n",
    "            if(a%i==0):  \n",
    "                k=k+1  \n",
    "        if(k<=0):  \n",
    "            yield(a);     \n",
    "l=[]\n",
    "for i in prime(1000):\n",
    "    l.append(i)                \n",
    "l=iter(l)\n",
    "for i in range(20):\n",
    "    print(next(l))              "
   ]
  },
  {
   "cell_type": "code",
   "execution_count": 127,
   "id": "09643c06",
   "metadata": {},
   "outputs": [
    {
     "name": "stdout",
     "output_type": "stream",
     "text": [
      "0\n",
      "1\n",
      "1\n",
      "2\n",
      "3\n",
      "5\n",
      "8\n",
      "13\n",
      "21\n",
      "34\n",
      "55\n",
      "89\n",
      "144\n"
     ]
    }
   ],
   "source": [
    "# # # question6\n",
    "n=10\n",
    "a=0\n",
    "b=1\n",
    "print(a)\n",
    "print(b)\n",
    "c=0\n",
    "while c<=n :\n",
    "    d=a+b\n",
    "    print(d)\n",
    "    a=b\n",
    "    b=d\n",
    "    c=c+1"
   ]
  },
  {
   "cell_type": "code",
   "execution_count": 124,
   "id": "8ce0e02c",
   "metadata": {},
   "outputs": [
    {
     "data": {
      "text/plain": [
       "['p', 'w', 's', 'k', 'i', 'l', 'l', 's']"
      ]
     },
     "execution_count": 124,
     "metadata": {},
     "output_type": "execute_result"
    }
   ],
   "source": [
    "# # # question7\n",
    "list(map(lambda x:x.lower(),\"pwskills\"))"
   ]
  },
  {
   "cell_type": "code",
   "execution_count": 126,
   "id": "d8af99b2",
   "metadata": {},
   "outputs": [
    {
     "name": "stdout",
     "output_type": "stream",
     "text": [
      "yes it is palindrome\n"
     ]
    }
   ],
   "source": [
    "# # # question8\n",
    "n=\"1221\"\n",
    "n1=str(n)\n",
    "if n1==n1[::-1]:\n",
    "    print(\"yes it is palindrome\")\n",
    "else:\n",
    "    print(\"yes it is not  palindrome\")\n"
   ]
  },
  {
   "cell_type": "code",
   "execution_count": 131,
   "id": "e4961b7e",
   "metadata": {},
   "outputs": [
    {
     "data": {
      "text/plain": [
       "[1,\n",
       " 3,\n",
       " 5,\n",
       " 7,\n",
       " 9,\n",
       " 11,\n",
       " 13,\n",
       " 15,\n",
       " 17,\n",
       " 19,\n",
       " 21,\n",
       " 23,\n",
       " 25,\n",
       " 27,\n",
       " 29,\n",
       " 31,\n",
       " 33,\n",
       " 35,\n",
       " 37,\n",
       " 39,\n",
       " 41,\n",
       " 43,\n",
       " 45,\n",
       " 47,\n",
       " 49,\n",
       " 51,\n",
       " 53,\n",
       " 55,\n",
       " 57,\n",
       " 59,\n",
       " 61,\n",
       " 63,\n",
       " 65,\n",
       " 67,\n",
       " 69,\n",
       " 71,\n",
       " 73,\n",
       " 75,\n",
       " 77,\n",
       " 79,\n",
       " 81,\n",
       " 83,\n",
       " 85,\n",
       " 87,\n",
       " 89,\n",
       " 91,\n",
       " 93,\n",
       " 95,\n",
       " 97,\n",
       " 99]"
      ]
     },
     "execution_count": 131,
     "metadata": {},
     "output_type": "execute_result"
    }
   ],
   "source": [
    "# # # question9\n",
    "l=[i for i in range(100)]\n",
    "list(filter(lambda x:x%2!=0,l))"
   ]
  },
  {
   "cell_type": "code",
   "execution_count": null,
   "id": "67490bbc",
   "metadata": {},
   "outputs": [],
   "source": []
  }
 ],
 "metadata": {
  "kernelspec": {
   "display_name": "Python 3 (ipykernel)",
   "language": "python",
   "name": "python3"
  },
  "language_info": {
   "codemirror_mode": {
    "name": "ipython",
    "version": 3
   },
   "file_extension": ".py",
   "mimetype": "text/x-python",
   "name": "python",
   "nbconvert_exporter": "python",
   "pygments_lexer": "ipython3",
   "version": "3.11.4"
  }
 },
 "nbformat": 4,
 "nbformat_minor": 5
}

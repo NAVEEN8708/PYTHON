{
 "cells": [
  {
   "cell_type": "code",
   "execution_count": null,
   "id": "69df75e8-f4c9-40ed-8763-d170d98fbc41",
   "metadata": {},
   "outputs": [],
   "source": [
    "Q1: Explain the following with an example:\n",
    " Artificial Intelligence\n",
    " Machine Learning,\n",
    " Deep Learning\n",
    "\n",
    "Artificial Intelligence refers to the simulation of human intelligence in machines\n",
    "designed to perform tasks that typically require human intellect. \n",
    "AI can encompass a broad range of tasks such as problem-solving,\n",
    "language understanding, and decision-making.Example: Siri or Google Assistant\n",
    "\n",
    "Machine Learning is a subset of AI that involves training algorithms to learn patterns from \n",
    "data and improve over time without explicit programming.\n",
    "ML models learn from data to make predictions or decisions based on previous experiences.\n",
    "Example: Email spam filters that learn to classify emails as spam or not spam based on historical data.\n",
    "\n",
    "\n",
    "Deep Learning is a specialized subset of Machine Learning that utilizes \n",
    "neural networks with many layers (deep neural networks) to analyze large \n",
    "datasets and extract high-level features. It is particularly useful for tasks\n",
    "like image \n",
    "\n",
    "\n",
    "\n",
    "\n"
   ]
  },
  {
   "cell_type": "code",
   "execution_count": null,
   "id": "762994fa-7f31-43da-9cc6-5c8e71c2127c",
   "metadata": {},
   "outputs": [],
   "source": [
    "Q2: What is supervised learning? List some examples of supervised learning.\n",
    "Supervised Learning is a type of machine learning where the model i\n",
    "s trained on labeled data \n",
    "(i.e., the input data is paired with the correct output). \n",
    "The algorithm learns a mapping from inputs to outputs, \n",
    "making predictions on new data based on the patterns it has learned.\n",
    "\n",
    "Examples:\n",
    "\n",
    "Classification: Spam email detection (spam or not spam)."
   ]
  },
  {
   "cell_type": "code",
   "execution_count": null,
   "id": "f002a5d5-6110-4dcc-a6d3-e11687e011ec",
   "metadata": {},
   "outputs": [],
   "source": [
    "Q3: What is unsupervised learning? List some examples of unsupervised learning.\n",
    "Unsupervised Learning involves training models on data that is not labeled,\n",
    "meaning there are no explicit output values to guide the learning process.\n",
    "The goal is often to identify patterns, structures, \n",
    "or groupings within the data. \n",
    "Anomaly Detection: Identifying rare events or outliers in data."
   ]
  },
  {
   "cell_type": "code",
   "execution_count": null,
   "id": "538243cf-5262-48a0-9a0b-9fff1794127f",
   "metadata": {},
   "outputs": [],
   "source": [
    "Q4: What is the difference between AI, ML, DL, and DS?\n",
    "\n",
    "Artificial Intelligence (AI) is the broadest concept, aiming to simulate human intelligence in machines to perform tasks such as reasoning, problem-solving, and learning.\n",
    "Machine Learning (ML) is a subset of AI that focuses on algorithms that allow systems to learn and improve from data without being explicitly programmed.\n",
    "Deep Learning (DL) is a subset of ML that uses multi-layered neural networks to analyze large amounts of data for tasks like image and speech recognition.\n",
    "Data Science (DS) is an interdisciplinary field that uses techniques from AI, statistics, and machine learning to extract insights and make data-driven decisions.\n"
   ]
  },
  {
   "cell_type": "code",
   "execution_count": null,
   "id": "f88f5359-dbbb-4017-985e-1c1f5c68c3e0",
   "metadata": {},
   "outputs": [],
   "source": [
    "Q5: What are the main differences between supervised, unsupervised, and semi-supervised learning?\n",
    "\n",
    "Supervised Learning: The model is trained on labeled data, with input-output pairs. The algorithm learns a function to map inputs to outputs.\n",
    "Unsupervised Learning: The model works with unlabeled data and tries to find patterns or structures in the data, such as clustering or dimensionality reduction.\n",
    "Semi-supervised Learning: The model is trained with a combination of labeled and unlabeled data. It leverages the small amount of labeled data to guide learning from the large amount of unlabeled data.\n"
   ]
  },
  {
   "cell_type": "code",
   "execution_count": null,
   "id": "dc163fda-97c0-409b-bf72-5b3e2fd53d33",
   "metadata": {},
   "outputs": [],
   "source": [
    "Q6: What is train, test and validation split? Explain the importance of each term.\n",
    "Training Set: The data used to train the model. The model learns patterns and relationships from this data.\n",
    "Validation Set: Data used to tune the model's parameters (e.g., hyperparameters). It helps prevent overfitting and ensures the model generalizes well.\n",
    "Test Set: Data that the model has never seen before. It is used to evaluate the model's performance and determine how well it will perform on real-world data."
   ]
  },
  {
   "cell_type": "code",
   "execution_count": null,
   "id": "7a2e9cfa-05e3-43b2-9ca5-09ccb4bf21e7",
   "metadata": {},
   "outputs": [],
   "source": [
    "Q7: How can unsupervised learning be used in anomaly detection?\n",
    "Unsupervised learning can be used in anomaly detection by identifying patterns \n",
    "or clusters in the data, and then flagging any data points that deviate \n",
    "significantly from these patterns as anomalies. Since the data is unlabeled, \n",
    "the model does not know what constitutes an anomaly ahead of time, but it \n",
    "learns to identify unusual or rare data points based on the characteristics of\n",
    "the dataset."
   ]
  },
  {
   "cell_type": "code",
   "execution_count": null,
   "id": "fa95530e-a7a1-4f94-ab1a-3572458d11af",
   "metadata": {},
   "outputs": [],
   "source": [
    "Q8: List down some commonly used supervised learning algorithms and unsupervised learning\n",
    "algorithms.\n",
    "Supervised Learning Algorithms:\n",
    "\n",
    "Linear Regression\n",
    "Logistic Regression\n",
    "Decision Trees\n",
    "\n",
    "Unsupervised Learning Algorithms:\n",
    "\n",
    "K-Means Clustering\n",
    "Hierarchical Clustering\n",
    "Principal Component Analysis (PCA)\n"
   ]
  }
 ],
 "metadata": {
  "kernelspec": {
   "display_name": "Python 3 (ipykernel)",
   "language": "python",
   "name": "python3"
  },
  "language_info": {
   "codemirror_mode": {
    "name": "ipython",
    "version": 3
   },
   "file_extension": ".py",
   "mimetype": "text/x-python",
   "name": "python",
   "nbconvert_exporter": "python",
   "pygments_lexer": "ipython3",
   "version": "3.11.4"
  }
 },
 "nbformat": 4,
 "nbformat_minor": 5
}
